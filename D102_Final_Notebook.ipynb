{
  "nbformat": 4,
  "nbformat_minor": 0,
  "metadata": {
    "colab": {
      "provenance": []
    },
    "kernelspec": {
      "name": "python3",
      "display_name": "Python 3"
    },
    "language_info": {
      "name": "python"
    }
  },
  "cells": [
    {
      "cell_type": "code",
      "source": [
        "import pandas as pd\n",
        "import seaborn as sns\n",
        "import matplotlib.pyplot as plt\n",
        "\n",
        "dem_candidates = pd.read_csv('https://raw.githubusercontent.com/fivethirtyeight/data/master/primary-candidates-2018/dem_candidates.csv')\n",
        "rep_candidates = pd.read_csv('https://raw.githubusercontent.com/fivethirtyeight/data/master/primary-candidates-2018/rep_candidates.csv', encoding='MacRoman')"
      ],
      "metadata": {
        "id": "2H7vEDMRt9XA"
      },
      "execution_count": 1,
      "outputs": []
    },
    {
      "cell_type": "markdown",
      "source": [
        "# EDA"
      ],
      "metadata": {
        "id": "iaBNRpXRgtB6"
      }
    },
    {
      "cell_type": "code",
      "source": [
        "rep_candidates.columns, dem_candidates.columns"
      ],
      "metadata": {
        "id": "G_lJAfKQt9eT",
        "colab": {
          "base_uri": "https://localhost:8080/"
        },
        "outputId": "95994d90-4bbc-4b75-f74c-3e5364d28720"
      },
      "execution_count": 2,
      "outputs": [
        {
          "output_type": "execute_result",
          "data": {
            "text/plain": [
              "(Index(['Candidate', 'State', 'District', 'Office Type', 'Race Type',\n",
              "        'Race Primary Election Date', 'Primary Status', 'Primary Runoff Status',\n",
              "        'General Status', 'Primary %', 'Won Primary', 'Rep Party Support?',\n",
              "        'Trump Endorsed?', 'Bannon Endorsed?', 'Great America Endorsed?',\n",
              "        'NRA Endorsed?', 'Right to Life Endorsed?',\n",
              "        'Susan B. Anthony Endorsed?', 'Club for Growth Endorsed?',\n",
              "        'Koch Support?', 'House Freedom Support?', 'Tea Party Endorsed?',\n",
              "        'Main Street Endorsed?', 'Chamber Endorsed?', 'No Labels Support?'],\n",
              "       dtype='object'),\n",
              " Index(['Candidate', 'State', 'District', 'Office Type', 'Race Type',\n",
              "        'Race Primary Election Date', 'Primary Status', 'Primary Runoff Status',\n",
              "        'General Status', 'Partisan Lean', 'Primary %', 'Won Primary', 'Race',\n",
              "        'Veteran?', 'LGBTQ?', 'Elected Official?', 'Self-Funder?', 'STEM?',\n",
              "        'Obama Alum?', 'Party Support?', 'Emily Endorsed?',\n",
              "        'Guns Sense Candidate?', 'Biden Endorsed?', 'Warren Endorsed? ',\n",
              "        'Sanders Endorsed?', 'Our Revolution Endorsed?',\n",
              "        'Justice Dems Endorsed?', 'PCCC Endorsed?', 'Indivisible Endorsed?',\n",
              "        'WFP Endorsed?', 'VoteVets Endorsed?', 'No Labels Support?'],\n",
              "       dtype='object'))"
            ]
          },
          "metadata": {},
          "execution_count": 2
        }
      ]
    },
    {
      "cell_type": "code",
      "source": [
        "print(dem_candidates[['Biden Endorsed?']].value_counts())\n",
        "print('\\n')\n",
        "print(dem_candidates[['Sanders Endorsed?']].value_counts())\n",
        "print('\\n')\n",
        "print(dem_candidates[['Emily Endorsed?']].value_counts())\n",
        "print('\\n')\n",
        "print(dem_candidates[['Warren Endorsed? ']].value_counts())\n",
        "print('\\n')\n",
        "print(dem_candidates[['WFP Endorsed?']].value_counts())"
      ],
      "metadata": {
        "id": "M6c723-mx5af",
        "colab": {
          "base_uri": "https://localhost:8080/"
        },
        "outputId": "f6bbdc0b-8897-41c6-f1c8-d0756e52cae3"
      },
      "execution_count": 3,
      "outputs": [
        {
          "output_type": "stream",
          "name": "stdout",
          "text": [
            "Biden Endorsed?\n",
            "No                 29\n",
            "Yes                10\n",
            "dtype: int64\n",
            "\n",
            "\n",
            "Sanders Endorsed?\n",
            "No                   20\n",
            "Yes                   9\n",
            "dtype: int64\n",
            "\n",
            "\n",
            "Emily Endorsed?\n",
            "No                 174\n",
            "Yes                 54\n",
            "dtype: int64\n",
            "\n",
            "\n",
            "Warren Endorsed? \n",
            "No                   21\n",
            "Yes                   5\n",
            "dtype: int64\n",
            "\n",
            "\n",
            "WFP Endorsed?\n",
            "No               74\n",
            "Yes              30\n",
            "dtype: int64\n"
          ]
        }
      ]
    },
    {
      "cell_type": "markdown",
      "source": [
        "### Numerical Visualization 1: Distribution of Partisan Lean Split on Race\n"
      ],
      "metadata": {
        "id": "gYTB8npSF0aY"
      }
    },
    {
      "cell_type": "code",
      "source": [
        "sns.histplot(data=dem_candidates, x='Partisan Lean', hue='Race', stat='density', common_norm=False, kde=True)\n",
        "plt.title('Distribution of Partisan Lean Split on Race')"
      ],
      "metadata": {
        "colab": {
          "base_uri": "https://localhost:8080/",
          "height": 491
        },
        "id": "ZoIPJuYuGyNK",
        "outputId": "1190a6f3-ee1b-4a7d-9af4-81af344641cd"
      },
      "execution_count": 4,
      "outputs": [
        {
          "output_type": "execute_result",
          "data": {
            "text/plain": [
              "Text(0.5, 1.0, 'Distribution of Partisan Lean Split on Race')"
            ]
          },
          "metadata": {},
          "execution_count": 4
        },
        {
          "output_type": "display_data",
          "data": {
            "text/plain": [
              "<Figure size 640x480 with 1 Axes>"
            ],
            "image/png": "[encoded data removed]"
          },
          "metadata": {}
        }
      ]
    },
    {
      "cell_type": "markdown",
      "source": [
        "\n",
        "\n",
        "\n",
        " We observe that there may be some discrepencies in the tails in that there is a spike in nonwhite in the larger partisan lean areas, implying that nonwhite people may be more likely to run in more democrat leaning areas. On the other hand, in the left tail, there appears to be a higher concentration of whites in the lower partisan leans, implying that whites may be more likely to run in more conservative areas. This could also be due to the demographics of counties, possibly suggesting that there there may be more whites in conservative leaning areas and nonwhites in democrat leaning areas. This visualization is relevant to our research question regarding if race has an effect on a democrat winning a primary in that it suggests a possible answer to the question. This graph suggests that there may be no effect of race in whether a democrat wins a primary **in general**, but that there may be differences based on the partisan lean of the area they run in."
      ],
      "metadata": {
        "id": "zGhX0UWzI2fg"
      }
    },
    {
      "cell_type": "markdown",
      "source": [
        "### Numerical Visualization 2: Distribution of Primary Percentage Split on Race"
      ],
      "metadata": {
        "id": "4BeaPONvSxds"
      }
    },
    {
      "cell_type": "code",
      "source": [
        "sns.histplot(data=dem_candidates, x='Primary %', hue='Race', stat='density', common_norm=False, kde=True)\n",
        "plt.title('Distribution of Primary Percentage Split on Race')"
      ],
      "metadata": {
        "colab": {
          "base_uri": "https://localhost:8080/",
          "height": 491
        },
        "id": "hBrHz85Y-OzX",
        "outputId": "33e1af06-7ad3-4f46-b36b-69db1eca68ea"
      },
      "execution_count": 5,
      "outputs": [
        {
          "output_type": "execute_result",
          "data": {
            "text/plain": [
              "Text(0.5, 1.0, 'Distribution of Primary Percentage Split on Race')"
            ]
          },
          "metadata": {},
          "execution_count": 5
        },
        {
          "output_type": "display_data",
          "data": {
            "text/plain": [
              "<Figure size 640x480 with 1 Axes>"
            ],
            "image/png": "[encoded data removed]"
          },
          "metadata": {}
        }
      ]
    },
    {
      "cell_type": "markdown",
      "source": [
        "We observe that the distribution the distribution of Primary Percentage for white democrats is slightly more skewed left than the distribution of Primary Percentage for non-white democrats. This suggests the possible answer that white democrats may be more likely to receive a higher perecentage of primary votes, which could also suggest that white democrats are more likely to win a primary. The nonwhite candidates have a higher peak density at a lower primary percentage, suggesting that nonwhite candidates recieve a smaller percentage of votes on average in the primaries."
      ],
      "metadata": {
        "id": "3a4fpjuLBPgt"
      }
    },
    {
      "cell_type": "markdown",
      "source": [
        "### Categorical Visualization 1: Democrat Endorsement Count Split on Primary Election Result"
      ],
      "metadata": {
        "id": "XMTkYvmaS4IF"
      }
    },
    {
      "cell_type": "code",
      "source": [
        "endorsed_dem = dem_candidates[['Candidate', 'State', 'District', 'Won Primary', 'Emily Endorsed?','Biden Endorsed?', 'Warren Endorsed? ',\n",
        "       'Sanders Endorsed?', 'Our Revolution Endorsed?',\n",
        "       'Justice Dems Endorsed?', 'PCCC Endorsed?', 'Indivisible Endorsed?',\n",
        "       'WFP Endorsed?', 'VoteVets Endorsed?']]\n",
        "\n",
        "endorsed_dem = endorsed_dem.fillna('No')\n",
        "\n",
        "endorsed_dem.replace('No', 0, inplace=True)\n",
        "endorsed_dem.replace('Yes', 1, inplace=True)\n",
        "\n",
        "endorsed_dem['endorsed'] = endorsed_dem.iloc[:, 4:14].sum(axis=1)\n",
        "\n",
        "\n",
        "sns.countplot(data=endorsed_dem, x=\"endorsed\", hue=\"Won Primary\", palette=\"muted\")\n",
        "plt.legend(title='Won Primary?', labels=['No', 'Yes'])\n",
        "plt.title('Democrat Endorsement Count Split on Primary Election Result')"
      ],
      "metadata": {
        "id": "z1plbIw5IK-b",
        "colab": {
          "base_uri": "https://localhost:8080/",
          "height": 491
        },
        "outputId": "baad36c6-1a3d-4f57-bf47-3846b95e9efc"
      },
      "execution_count": 6,
      "outputs": [
        {
          "output_type": "execute_result",
          "data": {
            "text/plain": [
              "Text(0.5, 1.0, 'Democrat Endorsement Count Split on Primary Election Result')"
            ]
          },
          "metadata": {},
          "execution_count": 6
        },
        {
          "output_type": "display_data",
          "data": {
            "text/plain": [
              "<Figure size 640x480 with 1 Axes>"
            ],
            "image/png": "[encoded data removed]"
          },
          "metadata": {}
        }
      ]
    },
    {
      "cell_type": "markdown",
      "source": [
        "We observe that with zero endorsements the number of those who lost the primary is far lower than the number of those who won. When candidates receive one endorsement, this difference almost completely levels out. At three or more endorsements, the number of candidates who wins their election is actually greater than the number of those who lost. Although the values at this point are pretty small, so we don't have a lot of data to work off of, the difference observed at these higher numbers of endorsements imply that a greater number of endorsements means a lot when it comes to a candidates chances of winning their race. This has massive implications for our second research question, which is about whether or not different types of endorsements have an affect on the likelihood of winning the elction. As aforementioned, from the data above, we can observe that it is very likely that an endorsement has a pretty large effect on chances of winning, so this plot does a lot to motivate our question about searching to see how specific endorsements effect the chances of winning."
      ],
      "metadata": {
        "id": "iLlYByWCJ6t8"
      }
    },
    {
      "cell_type": "markdown",
      "source": [
        "### Categorical Visualization 2: White/Nonewhite Candidate Count Split on Primary Election"
      ],
      "metadata": {
        "id": "Zu9k_E-QTBfJ"
      }
    },
    {
      "cell_type": "code",
      "source": [
        "# Bar graph of # of candidates who white/non-white split on Primary Election Results\n",
        "raceplot = sns.countplot(data=dem_candidates, x=\"Race\", hue=\"Won Primary\", palette=\"muted\")\n",
        "for bar in raceplot.patches:\n",
        "    raceplot.annotate(bar.get_height(), (bar.get_x() + bar.get_width() / 2., bar.get_height() - 5),\n",
        "                ha='center', va='center', xytext=(0, 10), textcoords='offset points')\n",
        "plt.title('White/Nonewhite Candidate Count Split on Primary Election Result')"
      ],
      "metadata": {
        "id": "iEKGLL8nLP8Z",
        "colab": {
          "base_uri": "https://localhost:8080/",
          "height": 491
        },
        "outputId": "5183bf6b-f15a-414a-b6f6-bc930a47c851"
      },
      "execution_count": 7,
      "outputs": [
        {
          "output_type": "execute_result",
          "data": {
            "text/plain": [
              "Text(0.5, 1.0, 'White/Nonewhite Candidate Count Split on Primary Election Result')"
            ]
          },
          "metadata": {},
          "execution_count": 7
        },
        {
          "output_type": "display_data",
          "data": {
            "text/plain": [
              "<Figure size 640x480 with 1 Axes>"
            ],
            "image/png": "[encoded data removed]"
          },
          "metadata": {}
        }
      ]
    },
    {
      "cell_type": "markdown",
      "source": [
        "The proportion of white candidates who won the election is slightly higher than the proportion of nonwhite candidates who won their election, however the difference is small enough that we are inclined to consider it negligigible on first observation. As such, we can see that both the proportion of nonwhites and whites who win their primary election are about equivalent. This suggests that this is the outcome we will find from our hypothesis test checking whether race has an effect on a democrat's chances of winning."
      ],
      "metadata": {
        "id": "qzbwTKkHQodH"
      }
    },
    {
      "cell_type": "markdown",
      "source": [
        "### Categorical Visualization 3: Veteran/Nonveteran Candidate Count Split on Primary Election"
      ],
      "metadata": {
        "id": "GY45WWvvTZCw"
      }
    },
    {
      "cell_type": "code",
      "source": [
        "# Bar graph of # of candidates who veteran/non-veteran split by those who won and those who did not win primary\n",
        "Vetplot = sns.countplot(data=dem_candidates, x=\"Veteran?\", hue=\"Won Primary\", palette=\"muted\")\n",
        "for bar in Vetplot.patches:\n",
        "    Vetplot.annotate(bar.get_height(), (bar.get_x() + bar.get_width() / 2., bar.get_height() - 5),\n",
        "                ha='center', va='center', xytext=(0, 10), textcoords='offset points')\n",
        "plt.title('Veteran/Nonveteran Candidate Count Split on Primary Election Result')"
      ],
      "metadata": {
        "colab": {
          "base_uri": "https://localhost:8080/",
          "height": 491
        },
        "id": "cVgnVGBj3TNC",
        "outputId": "c983d7ac-ad1b-43df-88a9-9c875863790d"
      },
      "execution_count": 8,
      "outputs": [
        {
          "output_type": "execute_result",
          "data": {
            "text/plain": [
              "Text(0.5, 1.0, 'Veteran/Nonveteran Candidate Count Split on Primary Election Result')"
            ]
          },
          "metadata": {},
          "execution_count": 8
        },
        {
          "output_type": "display_data",
          "data": {
            "text/plain": [
              "<Figure size 640x480 with 1 Axes>"
            ],
            "image/png": "[encoded data removed]"
          },
          "metadata": {}
        }
      ]
    },
    {
      "cell_type": "markdown",
      "source": [
        "This bar chart is interesting as it shows the candidated based on their vet status. While there are less veteran candidates, some of them have had success in their primary elections.We see that in both vet and non-vet the proportions seem similar, this may suggest there is not a difference between being a vet and non-vet and winning the primary. The count of non-vet who won is substantial, but smaller compared to non-vets who lost. The ratios of the winers to total pop of vet and non-vet are pretty much identical and it would be interesting to see if there is change with hypothesis testing.\n"
      ],
      "metadata": {
        "id": "DRgI_qqYOZOk"
      }
    },
    {
      "cell_type": "markdown",
      "source": [
        "# Hypothesis Testing"
      ],
      "metadata": {
        "id": "U6ZKro6nlyet"
      }
    },
    {
      "cell_type": "code",
      "execution_count": 9,
      "metadata": {
        "id": "07RUM_ktmpsn"
      },
      "outputs": [],
      "source": [
        "dem_candidates = pd.read_csv('https://raw.githubusercontent.com/fivethirtyeight/data/master/primary-candidates-2018/dem_candidates.csv')\n",
        "rep_candidates = pd.read_csv('https://raw.githubusercontent.com/fivethirtyeight/data/master/primary-candidates-2018/rep_candidates.csv', encoding='MacRoman')\n",
        "dem_candidates.head()\n",
        "dem_candidates= dem_candidates[~dem_candidates['Won Primary'].isnull()].reset_index()\n",
        "rep_candidates= rep_candidates[~rep_candidates['Won Primary'].isnull()].reset_index()"
      ]
    },
    {
      "cell_type": "code",
      "execution_count": 10,
      "metadata": {
        "id": "wAgkucW1jgWr"
      },
      "outputs": [],
      "source": [
        "\n",
        "import random\n",
        "import numpy as np\n",
        "dem_candidates.isnull().sum(axis=0)\n",
        "race_dist = dem_candidates['Race'].value_counts()\n",
        "prob_Nonwhite = race_dist['Nonwhite'] / sum(race_dist)\n",
        "\n",
        "# Fill nan for race\n",
        "for i in range(len(dem_candidates['Candidate'])):\n",
        "  if pd.isnull(dem_candidates.loc[i, 'Race']):\n",
        "    if random.random() < prob_Nonwhite:\n",
        "      dem_candidates.loc[i, 'Race'] = 'Nonwhite'\n",
        "    else:\n",
        "      dem_candidates.loc[i, 'Race'] = 'White'\n",
        "\n",
        "# Fill nan for Veteran\n",
        "vet_dist = dem_candidates['Veteran?'].value_counts()\n",
        "prob_vet = vet_dist['Yes'] / sum(vet_dist)\n",
        "for i in range(len(dem_candidates['Candidate'])):\n",
        "  if pd.isnull(dem_candidates.loc[i, 'Veteran?']):\n",
        "    if random.random() < prob_vet:\n",
        "      dem_candidates.loc[i, 'Veteran?'] = 'Yes'\n",
        "    else:\n",
        "      dem_candidates.loc[i, 'Veteran?'] = 'No'\n",
        "\n",
        "# Fill nan for LGBT\n",
        "lgbtq_dist = dem_candidates['LGBTQ?'].value_counts()\n",
        "prob_lgbtq = lgbtq_dist['Yes'] / sum(lgbtq_dist)\n",
        "for i in range(len(dem_candidates['Candidate'])):\n",
        "  if pd.isnull(dem_candidates.loc[i, 'LGBTQ?']):\n",
        "    if random.random() < prob_lgbtq:\n",
        "      dem_candidates.loc[i, 'LGBTQ?'] = 'Yes'\n",
        "    else:\n",
        "      dem_candidates.loc[i, 'LGBTQ?'] = 'No'\n"
      ]
    },
    {
      "cell_type": "markdown",
      "metadata": {
        "id": "87BN0t7Toy78"
      },
      "source": [
        "Remove unopposed candidates"
      ]
    },
    {
      "cell_type": "code",
      "execution_count": 11,
      "metadata": {
        "colab": {
          "base_uri": "https://localhost:8080/"
        },
        "id": "1R1dxkP3ykep",
        "outputId": "2a709120-4af6-4b35-9de9-3b2350c8e872"
      },
      "outputs": [
        {
          "output_type": "execute_result",
          "data": {
            "text/plain": [
              "index                           0\n",
              "Candidate                       0\n",
              "State                           0\n",
              "District                        0\n",
              "Office Type                     0\n",
              "Race Type                       0\n",
              "Race Primary Election Date      0\n",
              "Primary Status                  0\n",
              "Primary Runoff Status           0\n",
              "General Status                  0\n",
              "Partisan Lean                   0\n",
              "Primary %                      10\n",
              "Won Primary                     0\n",
              "Race                            0\n",
              "Veteran?                        0\n",
              "LGBTQ?                          0\n",
              "Elected Official?              11\n",
              "Self-Funder?                    0\n",
              "STEM?                          11\n",
              "Obama Alum?                     1\n",
              "Party Support?                651\n",
              "Emily Endorsed?               561\n",
              "Guns Sense Candidate?         421\n",
              "Biden Endorsed?               750\n",
              "Warren Endorsed?              763\n",
              "Sanders Endorsed?             760\n",
              "Our Revolution Endorsed?      466\n",
              "Justice Dems Endorsed?        590\n",
              "PCCC Endorsed?                734\n",
              "Indivisible Endorsed?         649\n",
              "WFP Endorsed?                 685\n",
              "VoteVets Endorsed?            692\n",
              "No Labels Support?            775\n",
              "dtype: int64"
            ]
          },
          "metadata": {},
          "execution_count": 11
        }
      ],
      "source": [
        "dem_candidates.isnull().sum(axis=0)"
      ]
    },
    {
      "cell_type": "code",
      "execution_count": 12,
      "metadata": {
        "id": "4ss5uI6WjfnT"
      },
      "outputs": [],
      "source": [
        "excluded_districts = np.array((dem_candidates.groupby('District')['Candidate'].count().reset_index()).query(\"Candidate == 1\")[\"District\"])\n",
        "dem_candidates = dem_candidates.query('District not in @excluded_districts')"
      ]
    },
    {
      "cell_type": "code",
      "execution_count": 13,
      "metadata": {
        "id": "sQDFAyH7o148"
      },
      "outputs": [],
      "source": [
        "rep_excluded_districts = np.array((rep_candidates.groupby('District')['Candidate'].count().reset_index()).query(\"Candidate == 1\")[\"District\"])\n",
        "rep_candidates = rep_candidates.query('District not in @rep_excluded_districts')"
      ]
    },
    {
      "cell_type": "code",
      "execution_count": 14,
      "metadata": {
        "colab": {
          "base_uri": "https://localhost:8080/"
        },
        "id": "mYn4QIGRw3pq",
        "outputId": "8c45f254-98e2-43b2-a17e-a45a9a851249"
      },
      "outputs": [
        {
          "output_type": "execute_result",
          "data": {
            "text/plain": [
              "Index(['index', 'Candidate', 'State', 'District', 'Office Type', 'Race Type',\n",
              "       'Race Primary Election Date', 'Primary Status', 'Primary Runoff Status',\n",
              "       'General Status', 'Partisan Lean', 'Primary %', 'Won Primary', 'Race',\n",
              "       'Veteran?', 'LGBTQ?', 'Elected Official?', 'Self-Funder?', 'STEM?',\n",
              "       'Obama Alum?', 'Party Support?', 'Emily Endorsed?',\n",
              "       'Guns Sense Candidate?', 'Biden Endorsed?', 'Warren Endorsed? ',\n",
              "       'Sanders Endorsed?', 'Our Revolution Endorsed?',\n",
              "       'Justice Dems Endorsed?', 'PCCC Endorsed?', 'Indivisible Endorsed?',\n",
              "       'WFP Endorsed?', 'VoteVets Endorsed?', 'No Labels Support?'],\n",
              "      dtype='object')"
            ]
          },
          "metadata": {},
          "execution_count": 14
        }
      ],
      "source": [
        "rep_candidates.columns\n",
        "dem_candidates.columns"
      ]
    },
    {
      "cell_type": "code",
      "execution_count": 15,
      "metadata": {
        "id": "D7sjpCQias-j"
      },
      "outputs": [],
      "source": [
        "# Hypotheses\n",
        "\n",
        "# Hypothesis 1:\n",
        "# Alternative: Veteran status is associated with primary election win rates for Democrats\n",
        "# Null: Veteran status has no association with primary election win rates for Democrats\n",
        "\n",
        "# Hypothesis 2:\n",
        "# Alternative: Race has an association with election primary win rates for Democrats\n",
        "# Null: Race has no association with election primary win rates for Democrats\n",
        "\n",
        "# Hypothesis 3:\n",
        "# Alternative: Being LGBTQ is associated with primary election win rates for Democrats\n",
        "# Null: Being LGBTQ has no association with primary election win rates for Democrats\n",
        "\n",
        "# Hypothesis 4:\n",
        "# Alternative: Having any kind of endorsement is associated with primary election win rates for Democrats\n",
        "# Null: Having any kind of endorsement has no association with primary election win rates for Democrats\n",
        "\n",
        "# Hypothesis 5:\n",
        "# Alternative: Having any sort of endorsement is associated with primary election win rate for Republicans\n",
        "# Null: Having any sort of endorsement has no association with primary election win rate for Republicans\n",
        "\n",
        "# Hypothesis 6:\n",
        "# Alternative: Being a Democrat is associated with different win rates among all endorsed candidates\n",
        "# Null: Being a Democrat is not associated with different win rates among endorsed candidates"
      ]
    },
    {
      "cell_type": "code",
      "execution_count": 16,
      "metadata": {
        "id": "Ub3oQftxsRlf"
      },
      "outputs": [],
      "source": [
        "#dem_candidates = dem_candidates.sample(n =round(len(dem_candidates) * 0.8), replace = True)\n",
        "#rep_candidates = rep_candidates.sample(n =round(len(rep_candidates) * 0.8), replace = True)"
      ]
    },
    {
      "cell_type": "code",
      "execution_count": 17,
      "metadata": {
        "id": "tBqoFIap5-Si"
      },
      "outputs": [],
      "source": [
        "import warnings\n",
        "\n",
        "# Ignore all warnings\n",
        "warnings.filterwarnings(\"ignore\")"
      ]
    },
    {
      "cell_type": "code",
      "execution_count": 18,
      "metadata": {
        "colab": {
          "base_uri": "https://localhost:8080/",
          "height": 424
        },
        "id": "9hl2ARXg3Wfy",
        "outputId": "cc96e247-d4ef-46dc-c713-357560ad132a"
      },
      "outputs": [
        {
          "output_type": "execute_result",
          "data": {
            "text/plain": [
              "                   Candidate  Race  LGBTQ?  Won Primary  Veteran?  \\\n",
              "0    Anthony White (Alabama)     1       0            0         1   \n",
              "1     Christopher Countryman     0       1            0         0   \n",
              "2      Doug \"New Blue\" Smith     0       0            0         1   \n",
              "3            James C. Fields     1       0            0         1   \n",
              "4              Sue Bell Cobb     0       0            0         0   \n",
              "..                       ...   ...     ...          ...       ...   \n",
              "784           Talley Sergent     0       0            1         0   \n",
              "785          Janice Hagerman     0       0            0         0   \n",
              "786               Paul Davis     0       0            0         0   \n",
              "787            Richard Ojeda     1       0            1         1   \n",
              "788             Shirley Love     0       0            0         0   \n",
              "\n",
              "     endorsed?_dems  \n",
              "0             False  \n",
              "1             False  \n",
              "2             False  \n",
              "3             False  \n",
              "4             False  \n",
              "..              ...  \n",
              "784           False  \n",
              "785           False  \n",
              "786           False  \n",
              "787            True  \n",
              "788           False  \n",
              "\n",
              "[744 rows x 6 columns]"
            ],
            "text/html": [
              "\n",
              "  <div id=\"df-186e728b-3036-47c8-9cf1-013c10fa02f9\" class=\"colab-df-container\">\n",
              "    <div>\n",
              "<style scoped>\n",
              "    .dataframe tbody tr th:only-of-type {\n",
              "        vertical-align: middle;\n",
              "    }\n",
              "\n",
              "    .dataframe tbody tr th {\n",
              "        vertical-align: top;\n",
              "    }\n",
              "\n",
              "    .dataframe thead th {\n",
              "        text-align: right;\n",
              "    }\n",
              "</style>\n",
              "<table border=\"1\" class=\"dataframe\">\n",
              "  <thead>\n",
              "    <tr style=\"text-align: right;\">\n",
              "      <th></th>\n",
              "      <th>Candidate</th>\n",
              "      <th>Race</th>\n",
              "      <th>LGBTQ?</th>\n",
              "      <th>Won Primary</th>\n",
              "      <th>Veteran?</th>\n",
              "      <th>endorsed?_dems</th>\n",
              "    </tr>\n",
              "  </thead>\n",
              "  <tbody>\n",
              "    <tr>\n",
              "      <th>0</th>\n",
              "      <td>Anthony White (Alabama)</td>\n",
              "      <td>1</td>\n",
              "      <td>0</td>\n",
              "      <td>0</td>\n",
              "      <td>1</td>\n",
              "      <td>False</td>\n",
              "    </tr>\n",
              "    <tr>\n",
              "      <th>1</th>\n",
              "      <td>Christopher Countryman</td>\n",
              "      <td>0</td>\n",
              "      <td>1</td>\n",
              "      <td>0</td>\n",
              "      <td>0</td>\n",
              "      <td>False</td>\n",
              "    </tr>\n",
              "    <tr>\n",
              "      <th>2</th>\n",
              "      <td>Doug \"New Blue\" Smith</td>\n",
              "      <td>0</td>\n",
              "      <td>0</td>\n",
              "      <td>0</td>\n",
              "      <td>1</td>\n",
              "      <td>False</td>\n",
              "    </tr>\n",
              "    <tr>\n",
              "      <th>3</th>\n",
              "      <td>James C. Fields</td>\n",
              "      <td>1</td>\n",
              "      <td>0</td>\n",
              "      <td>0</td>\n",
              "      <td>1</td>\n",
              "      <td>False</td>\n",
              "    </tr>\n",
              "    <tr>\n",
              "      <th>4</th>\n",
              "      <td>Sue Bell Cobb</td>\n",
              "      <td>0</td>\n",
              "      <td>0</td>\n",
              "      <td>0</td>\n",
              "      <td>0</td>\n",
              "      <td>False</td>\n",
              "    </tr>\n",
              "    <tr>\n",
              "      <th>...</th>\n",
              "      <td>...</td>\n",
              "      <td>...</td>\n",
              "      <td>...</td>\n",
              "      <td>...</td>\n",
              "      <td>...</td>\n",
              "      <td>...</td>\n",
              "    </tr>\n",
              "    <tr>\n",
              "      <th>784</th>\n",
              "      <td>Talley Sergent</td>\n",
              "      <td>0</td>\n",
              "      <td>0</td>\n",
              "      <td>1</td>\n",
              "      <td>0</td>\n",
              "      <td>False</td>\n",
              "    </tr>\n",
              "    <tr>\n",
              "      <th>785</th>\n",
              "      <td>Janice Hagerman</td>\n",
              "      <td>0</td>\n",
              "      <td>0</td>\n",
              "      <td>0</td>\n",
              "      <td>0</td>\n",
              "      <td>False</td>\n",
              "    </tr>\n",
              "    <tr>\n",
              "      <th>786</th>\n",
              "      <td>Paul Davis</td>\n",
              "      <td>0</td>\n",
              "      <td>0</td>\n",
              "      <td>0</td>\n",
              "      <td>0</td>\n",
              "      <td>False</td>\n",
              "    </tr>\n",
              "    <tr>\n",
              "      <th>787</th>\n",
              "      <td>Richard Ojeda</td>\n",
              "      <td>1</td>\n",
              "      <td>0</td>\n",
              "      <td>1</td>\n",
              "      <td>1</td>\n",
              "      <td>True</td>\n",
              "    </tr>\n",
              "    <tr>\n",
              "      <th>788</th>\n",
              "      <td>Shirley Love</td>\n",
              "      <td>0</td>\n",
              "      <td>0</td>\n",
              "      <td>0</td>\n",
              "      <td>0</td>\n",
              "      <td>False</td>\n",
              "    </tr>\n",
              "  </tbody>\n",
              "</table>\n",
              "<p>744 rows × 6 columns</p>\n",
              "</div>\n",
              "    <div class=\"colab-df-buttons\">\n",
              "\n",
              "  <div class=\"colab-df-container\">\n",
              "    <button class=\"colab-df-convert\" onclick=\"convertToInteractive('df-186e728b-3036-47c8-9cf1-013c10fa02f9')\"\n",
              "            title=\"Convert this dataframe to an interactive table.\"\n",
              "            style=\"display:none;\">\n",
              "\n",
              "  <svg xmlns=\"http://www.w3.org/2000/svg\" height=\"24px\" viewBox=\"0 -960 960 960\">\n",
              "    <path d=\"M120-120v-720h720v720H120Zm60-500h600v-160H180v160Zm220 220h160v-160H400v160Zm0 220h160v-160H400v160ZM180-400h160v-160H180v160Zm440 0h160v-160H620v160ZM180-180h160v-160H180v160Zm440 0h160v-160H620v160Z\"/>\n",
              "  </svg>\n",
              "    </button>\n",
              "\n",
              "  <style>\n",
              "    .colab-df-container {\n",
              "      display:flex;\n",
              "      gap: 12px;\n",
              "    }\n",
              "\n",
              "    .colab-df-convert {\n",
              "      background-color: #E8F0FE;\n",
              "      border: none;\n",
              "      border-radius: 50%;\n",
              "      cursor: pointer;\n",
              "      display: none;\n",
              "      fill: #1967D2;\n",
              "      height: 32px;\n",
              "      padding: 0 0 0 0;\n",
              "      width: 32px;\n",
              "    }\n",
              "\n",
              "    .colab-df-convert:hover {\n",
              "      background-color: #E2EBFA;\n",
              "      box-shadow: 0px 1px 2px rgba(60, 64, 67, 0.3), 0px 1px 3px 1px rgba(60, 64, 67, 0.15);\n",
              "      fill: #174EA6;\n",
              "    }\n",
              "\n",
              "    .colab-df-buttons div {\n",
              "      margin-bottom: 4px;\n",
              "    }\n",
              "\n",
              "    [theme=dark] .colab-df-convert {\n",
              "      background-color: #3B4455;\n",
              "      fill: #D2E3FC;\n",
              "    }\n",
              "\n",
              "    [theme=dark] .colab-df-convert:hover {\n",
              "      background-color: #434B5C;\n",
              "      box-shadow: 0px 1px 3px 1px rgba(0, 0, 0, 0.15);\n",
              "      filter: drop-shadow(0px 1px 2px rgba(0, 0, 0, 0.3));\n",
              "      fill: #FFFFFF;\n",
              "    }\n",
              "  </style>\n",
              "\n",
              "    <script>\n",
              "      const buttonEl =\n",
              "        document.querySelector('#df-186e728b-3036-47c8-9cf1-013c10fa02f9 button.colab-df-convert');\n",
              "      buttonEl.style.display =\n",
              "        google.colab.kernel.accessAllowed ? 'block' : 'none';\n",
              "\n",
              "      async function convertToInteractive(key) {\n",
              "        const element = document.querySelector('#df-186e728b-3036-47c8-9cf1-013c10fa02f9');\n",
              "        const dataTable =\n",
              "          await google.colab.kernel.invokeFunction('convertToInteractive',\n",
              "                                                    [key], {});\n",
              "        if (!dataTable) return;\n",
              "\n",
              "        const docLinkHtml = 'Like what you see? Visit the ' +\n",
              "          '<a target=\"_blank\" href=https://colab.research.google.com/notebooks/data_table.ipynb>data table notebook</a>'\n",
              "          + ' to learn more about interactive tables.';\n",
              "        element.innerHTML = '';\n",
              "        dataTable['output_type'] = 'display_data';\n",
              "        await google.colab.output.renderOutput(dataTable, element);\n",
              "        const docLink = document.createElement('div');\n",
              "        docLink.innerHTML = docLinkHtml;\n",
              "        element.appendChild(docLink);\n",
              "      }\n",
              "    </script>\n",
              "  </div>\n",
              "\n",
              "\n",
              "<div id=\"df-8b471b5c-241d-490a-bfcf-8a4c0d83b701\">\n",
              "  <button class=\"colab-df-quickchart\" onclick=\"quickchart('df-8b471b5c-241d-490a-bfcf-8a4c0d83b701')\"\n",
              "            title=\"Suggest charts\"\n",
              "            style=\"display:none;\">\n",
              "\n",
              "<svg xmlns=\"http://www.w3.org/2000/svg\" height=\"24px\"viewBox=\"0 0 24 24\"\n",
              "     width=\"24px\">\n",
              "    <g>\n",
              "        <path d=\"M19 3H5c-1.1 0-2 .9-2 2v14c0 1.1.9 2 2 2h14c1.1 0 2-.9 2-2V5c0-1.1-.9-2-2-2zM9 17H7v-7h2v7zm4 0h-2V7h2v10zm4 0h-2v-4h2v4z\"/>\n",
              "    </g>\n",
              "</svg>\n",
              "  </button>\n",
              "\n",
              "<style>\n",
              "  .colab-df-quickchart {\n",
              "      --bg-color: #E8F0FE;\n",
              "      --fill-color: #1967D2;\n",
              "      --hover-bg-color: #E2EBFA;\n",
              "      --hover-fill-color: #174EA6;\n",
              "      --disabled-fill-color: #AAA;\n",
              "      --disabled-bg-color: #DDD;\n",
              "  }\n",
              "\n",
              "  [theme=dark] .colab-df-quickchart {\n",
              "      --bg-color: #3B4455;\n",
              "      --fill-color: #D2E3FC;\n",
              "      --hover-bg-color: #434B5C;\n",
              "      --hover-fill-color: #FFFFFF;\n",
              "      --disabled-bg-color: #3B4455;\n",
              "      --disabled-fill-color: #666;\n",
              "  }\n",
              "\n",
              "  .colab-df-quickchart {\n",
              "    background-color: var(--bg-color);\n",
              "    border: none;\n",
              "    border-radius: 50%;\n",
              "    cursor: pointer;\n",
              "    display: none;\n",
              "    fill: var(--fill-color);\n",
              "    height: 32px;\n",
              "    padding: 0;\n",
              "    width: 32px;\n",
              "  }\n",
              "\n",
              "  .colab-df-quickchart:hover {\n",
              "    background-color: var(--hover-bg-color);\n",
              "    box-shadow: 0 1px 2px rgba(60, 64, 67, 0.3), 0 1px 3px 1px rgba(60, 64, 67, 0.15);\n",
              "    fill: var(--button-hover-fill-color);\n",
              "  }\n",
              "\n",
              "  .colab-df-quickchart-complete:disabled,\n",
              "  .colab-df-quickchart-complete:disabled:hover {\n",
              "    background-color: var(--disabled-bg-color);\n",
              "    fill: var(--disabled-fill-color);\n",
              "    box-shadow: none;\n",
              "  }\n",
              "\n",
              "  .colab-df-spinner {\n",
              "    border: 2px solid var(--fill-color);\n",
              "    border-color: transparent;\n",
              "    border-bottom-color: var(--fill-color);\n",
              "    animation:\n",
              "      spin 1s steps(1) infinite;\n",
              "  }\n",
              "\n",
              "  @keyframes spin {\n",
              "    0% {\n",
              "      border-color: transparent;\n",
              "      border-bottom-color: var(--fill-color);\n",
              "      border-left-color: var(--fill-color);\n",
              "    }\n",
              "    20% {\n",
              "      border-color: transparent;\n",
              "      border-left-color: var(--fill-color);\n",
              "      border-top-color: var(--fill-color);\n",
              "    }\n",
              "    30% {\n",
              "      border-color: transparent;\n",
              "      border-left-color: var(--fill-color);\n",
              "      border-top-color: var(--fill-color);\n",
              "      border-right-color: var(--fill-color);\n",
              "    }\n",
              "    40% {\n",
              "      border-color: transparent;\n",
              "      border-right-color: var(--fill-color);\n",
              "      border-top-color: var(--fill-color);\n",
              "    }\n",
              "    60% {\n",
              "      border-color: transparent;\n",
              "      border-right-color: var(--fill-color);\n",
              "    }\n",
              "    80% {\n",
              "      border-color: transparent;\n",
              "      border-right-color: var(--fill-color);\n",
              "      border-bottom-color: var(--fill-color);\n",
              "    }\n",
              "    90% {\n",
              "      border-color: transparent;\n",
              "      border-bottom-color: var(--fill-color);\n",
              "    }\n",
              "  }\n",
              "</style>\n",
              "\n",
              "  <script>\n",
              "    async function quickchart(key) {\n",
              "      const quickchartButtonEl =\n",
              "        document.querySelector('#' + key + ' button');\n",
              "      quickchartButtonEl.disabled = true;  // To prevent multiple clicks.\n",
              "      quickchartButtonEl.classList.add('colab-df-spinner');\n",
              "      try {\n",
              "        const charts = await google.colab.kernel.invokeFunction(\n",
              "            'suggestCharts', [key], {});\n",
              "      } catch (error) {\n",
              "        console.error('Error during call to suggestCharts:', error);\n",
              "      }\n",
              "      quickchartButtonEl.classList.remove('colab-df-spinner');\n",
              "      quickchartButtonEl.classList.add('colab-df-quickchart-complete');\n",
              "    }\n",
              "    (() => {\n",
              "      let quickchartButtonEl =\n",
              "        document.querySelector('#df-8b471b5c-241d-490a-bfcf-8a4c0d83b701 button');\n",
              "      quickchartButtonEl.style.display =\n",
              "        google.colab.kernel.accessAllowed ? 'block' : 'none';\n",
              "    })();\n",
              "  </script>\n",
              "</div>\n",
              "    </div>\n",
              "  </div>\n"
            ]
          },
          "metadata": {},
          "execution_count": 18
        }
      ],
      "source": [
        "endorsed_dem = dem_candidates[['Candidate', 'State', 'District', 'Won Primary', 'Emily Endorsed?','Biden Endorsed?', 'Warren Endorsed? ',\n",
        "       'Sanders Endorsed?', 'Our Revolution Endorsed?',\n",
        "       'Justice Dems Endorsed?', 'PCCC Endorsed?', 'Indivisible Endorsed?',\n",
        "       'WFP Endorsed?', 'VoteVets Endorsed?']]\n",
        "endorsed_dem = endorsed_dem.fillna('No')\n",
        "endorsed_dem.replace('No', 0, inplace=True)\n",
        "endorsed_dem.replace('Yes', 1, inplace=True)\n",
        "endorsed_dem.iloc[:, 4:12].sum(axis=1)\n",
        "endorsed_dem['endorsed'] = endorsed_dem.iloc[:, 4:14].sum(axis=1)\n",
        "\n",
        "\n",
        "\n",
        "\n",
        "dem_candidates_copy = dem_candidates.copy()\n",
        "dem_candidates_copy['Veteran?'].replace('Yes', 1, inplace=True)\n",
        "dem_candidates_copy['Veteran?'].replace('No', 0, inplace=True)\n",
        "dem_candidates_copy['Won Primary'].replace('Yes', 1, inplace=True)\n",
        "dem_candidates_copy['Won Primary'].replace('No', 0, inplace=True)\n",
        "dem_candidates_copy['Race'].replace('Nonwhite', 1, inplace=True)\n",
        "dem_candidates_copy['Race'].replace('White', 0, inplace=True)\n",
        "dem_candidates_copy['LGBTQ?'].replace('Yes', 1, inplace=True)\n",
        "dem_candidates_copy['LGBTQ?'].replace('No', 0, inplace=True)\n",
        "\n",
        "endorsed_rep = rep_candidates[['Candidate', 'Won Primary', 'Rep Party Support?',\n",
        "       'Trump Endorsed?', 'Bannon Endorsed?', 'Great America Endorsed?',\n",
        "       'NRA Endorsed?', 'Right to Life Endorsed?',\n",
        "       'Susan B. Anthony Endorsed?', 'Club for Growth Endorsed?',\n",
        "       'Koch Support?', 'House Freedom Support?', 'Tea Party Endorsed?',\n",
        "       'Main Street Endorsed?', 'Chamber Endorsed?', 'No Labels Support?']]\n",
        "endorsed_rep = endorsed_rep.fillna('No')\n",
        "endorsed_rep.replace('No', 0, inplace=True)\n",
        "endorsed_rep.replace('Yes', 1, inplace=True)\n",
        "endorsed_rep['endorsed'] = endorsed_rep.iloc[:, 2:].sum(axis=1)\n",
        "\n",
        "\n",
        "\n",
        "df_clean = dem_candidates_copy[['Candidate', 'Race', 'LGBTQ?', 'Won Primary', 'Veteran?', ]]\n",
        "df_clean['endorsed?_dems'] = endorsed_dem['endorsed']\n",
        "df_clean['endorsed?_dems'] = df_clean['endorsed?_dems']>1\n",
        "\n",
        "df_clean['endorsed?_dems'].replace('True', 1, inplace=True)\n",
        "df_clean['endorsed?_dems'].replace('False', 0, inplace=True)\n",
        "df_clean"
      ]
    },
    {
      "cell_type": "code",
      "execution_count": 19,
      "metadata": {
        "colab": {
          "base_uri": "https://localhost:8080/",
          "height": 424
        },
        "id": "E3xx_8tby-7g",
        "outputId": "fe6f95d9-ab3f-44f1-830b-aa4e6b023310"
      },
      "outputs": [
        {
          "output_type": "execute_result",
          "data": {
            "text/plain": [
              "           Candidate  endorsed  Won Primary\n",
              "0      Mike Dunleavy         0            1\n",
              "1    Michael Sheldon         0            0\n",
              "2     Mead Treadwell         0            0\n",
              "3       Darin Colbry         0            0\n",
              "4      Thomas Gordon         0            0\n",
              "..               ...       ...          ...\n",
              "769      Bill Dahlin         0            0\n",
              "770  Harriet Hageman         1            0\n",
              "771     Sam Galeotos         1            0\n",
              "772    Foster Friess         2            0\n",
              "773    Taylor Haynes         1            0\n",
              "\n",
              "[676 rows x 3 columns]"
            ],
            "text/html": [
              "\n",
              "  <div id=\"df-8d15e6a8-3bb1-4495-8465-9df7c50193f5\" class=\"colab-df-container\">\n",
              "    <div>\n",
              "<style scoped>\n",
              "    .dataframe tbody tr th:only-of-type {\n",
              "        vertical-align: middle;\n",
              "    }\n",
              "\n",
              "    .dataframe tbody tr th {\n",
              "        vertical-align: top;\n",
              "    }\n",
              "\n",
              "    .dataframe thead th {\n",
              "        text-align: right;\n",
              "    }\n",
              "</style>\n",
              "<table border=\"1\" class=\"dataframe\">\n",
              "  <thead>\n",
              "    <tr style=\"text-align: right;\">\n",
              "      <th></th>\n",
              "      <th>Candidate</th>\n",
              "      <th>endorsed</th>\n",
              "      <th>Won Primary</th>\n",
              "    </tr>\n",
              "  </thead>\n",
              "  <tbody>\n",
              "    <tr>\n",
              "      <th>0</th>\n",
              "      <td>Mike Dunleavy</td>\n",
              "      <td>0</td>\n",
              "      <td>1</td>\n",
              "    </tr>\n",
              "    <tr>\n",
              "      <th>1</th>\n",
              "      <td>Michael Sheldon</td>\n",
              "      <td>0</td>\n",
              "      <td>0</td>\n",
              "    </tr>\n",
              "    <tr>\n",
              "      <th>2</th>\n",
              "      <td>Mead Treadwell</td>\n",
              "      <td>0</td>\n",
              "      <td>0</td>\n",
              "    </tr>\n",
              "    <tr>\n",
              "      <th>3</th>\n",
              "      <td>Darin Colbry</td>\n",
              "      <td>0</td>\n",
              "      <td>0</td>\n",
              "    </tr>\n",
              "    <tr>\n",
              "      <th>4</th>\n",
              "      <td>Thomas Gordon</td>\n",
              "      <td>0</td>\n",
              "      <td>0</td>\n",
              "    </tr>\n",
              "    <tr>\n",
              "      <th>...</th>\n",
              "      <td>...</td>\n",
              "      <td>...</td>\n",
              "      <td>...</td>\n",
              "    </tr>\n",
              "    <tr>\n",
              "      <th>769</th>\n",
              "      <td>Bill Dahlin</td>\n",
              "      <td>0</td>\n",
              "      <td>0</td>\n",
              "    </tr>\n",
              "    <tr>\n",
              "      <th>770</th>\n",
              "      <td>Harriet Hageman</td>\n",
              "      <td>1</td>\n",
              "      <td>0</td>\n",
              "    </tr>\n",
              "    <tr>\n",
              "      <th>771</th>\n",
              "      <td>Sam Galeotos</td>\n",
              "      <td>1</td>\n",
              "      <td>0</td>\n",
              "    </tr>\n",
              "    <tr>\n",
              "      <th>772</th>\n",
              "      <td>Foster Friess</td>\n",
              "      <td>2</td>\n",
              "      <td>0</td>\n",
              "    </tr>\n",
              "    <tr>\n",
              "      <th>773</th>\n",
              "      <td>Taylor Haynes</td>\n",
              "      <td>1</td>\n",
              "      <td>0</td>\n",
              "    </tr>\n",
              "  </tbody>\n",
              "</table>\n",
              "<p>676 rows × 3 columns</p>\n",
              "</div>\n",
              "    <div class=\"colab-df-buttons\">\n",
              "\n",
              "  <div class=\"colab-df-container\">\n",
              "    <button class=\"colab-df-convert\" onclick=\"convertToInteractive('df-8d15e6a8-3bb1-4495-8465-9df7c50193f5')\"\n",
              "            title=\"Convert this dataframe to an interactive table.\"\n",
              "            style=\"display:none;\">\n",
              "\n",
              "  <svg xmlns=\"http://www.w3.org/2000/svg\" height=\"24px\" viewBox=\"0 -960 960 960\">\n",
              "    <path d=\"M120-120v-720h720v720H120Zm60-500h600v-160H180v160Zm220 220h160v-160H400v160Zm0 220h160v-160H400v160ZM180-400h160v-160H180v160Zm440 0h160v-160H620v160ZM180-180h160v-160H180v160Zm440 0h160v-160H620v160Z\"/>\n",
              "  </svg>\n",
              "    </button>\n",
              "\n",
              "  <style>\n",
              "    .colab-df-container {\n",
              "      display:flex;\n",
              "      gap: 12px;\n",
              "    }\n",
              "\n",
              "    .colab-df-convert {\n",
              "      background-color: #E8F0FE;\n",
              "      border: none;\n",
              "      border-radius: 50%;\n",
              "      cursor: pointer;\n",
              "      display: none;\n",
              "      fill: #1967D2;\n",
              "      height: 32px;\n",
              "      padding: 0 0 0 0;\n",
              "      width: 32px;\n",
              "    }\n",
              "\n",
              "    .colab-df-convert:hover {\n",
              "      background-color: #E2EBFA;\n",
              "      box-shadow: 0px 1px 2px rgba(60, 64, 67, 0.3), 0px 1px 3px 1px rgba(60, 64, 67, 0.15);\n",
              "      fill: #174EA6;\n",
              "    }\n",
              "\n",
              "    .colab-df-buttons div {\n",
              "      margin-bottom: 4px;\n",
              "    }\n",
              "\n",
              "    [theme=dark] .colab-df-convert {\n",
              "      background-color: #3B4455;\n",
              "      fill: #D2E3FC;\n",
              "    }\n",
              "\n",
              "    [theme=dark] .colab-df-convert:hover {\n",
              "      background-color: #434B5C;\n",
              "      box-shadow: 0px 1px 3px 1px rgba(0, 0, 0, 0.15);\n",
              "      filter: drop-shadow(0px 1px 2px rgba(0, 0, 0, 0.3));\n",
              "      fill: #FFFFFF;\n",
              "    }\n",
              "  </style>\n",
              "\n",
              "    <script>\n",
              "      const buttonEl =\n",
              "        document.querySelector('#df-8d15e6a8-3bb1-4495-8465-9df7c50193f5 button.colab-df-convert');\n",
              "      buttonEl.style.display =\n",
              "        google.colab.kernel.accessAllowed ? 'block' : 'none';\n",
              "\n",
              "      async function convertToInteractive(key) {\n",
              "        const element = document.querySelector('#df-8d15e6a8-3bb1-4495-8465-9df7c50193f5');\n",
              "        const dataTable =\n",
              "          await google.colab.kernel.invokeFunction('convertToInteractive',\n",
              "                                                    [key], {});\n",
              "        if (!dataTable) return;\n",
              "\n",
              "        const docLinkHtml = 'Like what you see? Visit the ' +\n",
              "          '<a target=\"_blank\" href=https://colab.research.google.com/notebooks/data_table.ipynb>data table notebook</a>'\n",
              "          + ' to learn more about interactive tables.';\n",
              "        element.innerHTML = '';\n",
              "        dataTable['output_type'] = 'display_data';\n",
              "        await google.colab.output.renderOutput(dataTable, element);\n",
              "        const docLink = document.createElement('div');\n",
              "        docLink.innerHTML = docLinkHtml;\n",
              "        element.appendChild(docLink);\n",
              "      }\n",
              "    </script>\n",
              "  </div>\n",
              "\n",
              "\n",
              "<div id=\"df-6f02e85e-fb48-49a8-858f-d89e2ef04373\">\n",
              "  <button class=\"colab-df-quickchart\" onclick=\"quickchart('df-6f02e85e-fb48-49a8-858f-d89e2ef04373')\"\n",
              "            title=\"Suggest charts\"\n",
              "            style=\"display:none;\">\n",
              "\n",
              "<svg xmlns=\"http://www.w3.org/2000/svg\" height=\"24px\"viewBox=\"0 0 24 24\"\n",
              "     width=\"24px\">\n",
              "    <g>\n",
              "        <path d=\"M19 3H5c-1.1 0-2 .9-2 2v14c0 1.1.9 2 2 2h14c1.1 0 2-.9 2-2V5c0-1.1-.9-2-2-2zM9 17H7v-7h2v7zm4 0h-2V7h2v10zm4 0h-2v-4h2v4z\"/>\n",
              "    </g>\n",
              "</svg>\n",
              "  </button>\n",
              "\n",
              "<style>\n",
              "  .colab-df-quickchart {\n",
              "      --bg-color: #E8F0FE;\n",
              "      --fill-color: #1967D2;\n",
              "      --hover-bg-color: #E2EBFA;\n",
              "      --hover-fill-color: #174EA6;\n",
              "      --disabled-fill-color: #AAA;\n",
              "      --disabled-bg-color: #DDD;\n",
              "  }\n",
              "\n",
              "  [theme=dark] .colab-df-quickchart {\n",
              "      --bg-color: #3B4455;\n",
              "      --fill-color: #D2E3FC;\n",
              "      --hover-bg-color: #434B5C;\n",
              "      --hover-fill-color: #FFFFFF;\n",
              "      --disabled-bg-color: #3B4455;\n",
              "      --disabled-fill-color: #666;\n",
              "  }\n",
              "\n",
              "  .colab-df-quickchart {\n",
              "    background-color: var(--bg-color);\n",
              "    border: none;\n",
              "    border-radius: 50%;\n",
              "    cursor: pointer;\n",
              "    display: none;\n",
              "    fill: var(--fill-color);\n",
              "    height: 32px;\n",
              "    padding: 0;\n",
              "    width: 32px;\n",
              "  }\n",
              "\n",
              "  .colab-df-quickchart:hover {\n",
              "    background-color: var(--hover-bg-color);\n",
              "    box-shadow: 0 1px 2px rgba(60, 64, 67, 0.3), 0 1px 3px 1px rgba(60, 64, 67, 0.15);\n",
              "    fill: var(--button-hover-fill-color);\n",
              "  }\n",
              "\n",
              "  .colab-df-quickchart-complete:disabled,\n",
              "  .colab-df-quickchart-complete:disabled:hover {\n",
              "    background-color: var(--disabled-bg-color);\n",
              "    fill: var(--disabled-fill-color);\n",
              "    box-shadow: none;\n",
              "  }\n",
              "\n",
              "  .colab-df-spinner {\n",
              "    border: 2px solid var(--fill-color);\n",
              "    border-color: transparent;\n",
              "    border-bottom-color: var(--fill-color);\n",
              "    animation:\n",
              "      spin 1s steps(1) infinite;\n",
              "  }\n",
              "\n",
              "  @keyframes spin {\n",
              "    0% {\n",
              "      border-color: transparent;\n",
              "      border-bottom-color: var(--fill-color);\n",
              "      border-left-color: var(--fill-color);\n",
              "    }\n",
              "    20% {\n",
              "      border-color: transparent;\n",
              "      border-left-color: var(--fill-color);\n",
              "      border-top-color: var(--fill-color);\n",
              "    }\n",
              "    30% {\n",
              "      border-color: transparent;\n",
              "      border-left-color: var(--fill-color);\n",
              "      border-top-color: var(--fill-color);\n",
              "      border-right-color: var(--fill-color);\n",
              "    }\n",
              "    40% {\n",
              "      border-color: transparent;\n",
              "      border-right-color: var(--fill-color);\n",
              "      border-top-color: var(--fill-color);\n",
              "    }\n",
              "    60% {\n",
              "      border-color: transparent;\n",
              "      border-right-color: var(--fill-color);\n",
              "    }\n",
              "    80% {\n",
              "      border-color: transparent;\n",
              "      border-right-color: var(--fill-color);\n",
              "      border-bottom-color: var(--fill-color);\n",
              "    }\n",
              "    90% {\n",
              "      border-color: transparent;\n",
              "      border-bottom-color: var(--fill-color);\n",
              "    }\n",
              "  }\n",
              "</style>\n",
              "\n",
              "  <script>\n",
              "    async function quickchart(key) {\n",
              "      const quickchartButtonEl =\n",
              "        document.querySelector('#' + key + ' button');\n",
              "      quickchartButtonEl.disabled = true;  // To prevent multiple clicks.\n",
              "      quickchartButtonEl.classList.add('colab-df-spinner');\n",
              "      try {\n",
              "        const charts = await google.colab.kernel.invokeFunction(\n",
              "            'suggestCharts', [key], {});\n",
              "      } catch (error) {\n",
              "        console.error('Error during call to suggestCharts:', error);\n",
              "      }\n",
              "      quickchartButtonEl.classList.remove('colab-df-spinner');\n",
              "      quickchartButtonEl.classList.add('colab-df-quickchart-complete');\n",
              "    }\n",
              "    (() => {\n",
              "      let quickchartButtonEl =\n",
              "        document.querySelector('#df-6f02e85e-fb48-49a8-858f-d89e2ef04373 button');\n",
              "      quickchartButtonEl.style.display =\n",
              "        google.colab.kernel.accessAllowed ? 'block' : 'none';\n",
              "    })();\n",
              "  </script>\n",
              "</div>\n",
              "    </div>\n",
              "  </div>\n"
            ]
          },
          "metadata": {},
          "execution_count": 19
        }
      ],
      "source": [
        "df_clean_rep = pd.DataFrame()\n",
        "df_clean_rep['Candidate'] = endorsed_rep['Candidate']\n",
        "df_clean_rep['endorsed'] = endorsed_rep['endorsed']\n",
        "df_clean_rep['Won Primary'] = endorsed_rep['Won Primary']\n",
        "df_clean_rep"
      ]
    },
    {
      "cell_type": "code",
      "execution_count": 20,
      "metadata": {
        "id": "2MQhvrwJ6v-D"
      },
      "outputs": [],
      "source": [
        "def difference_of_means(df, grouping_on, mean_of):\n",
        "    reduced = df[[grouping_on, mean_of]]\n",
        "    means_df = reduced.groupby(grouping_on).mean()\n",
        "    difference = means_df.iloc[1] - means_df.iloc[0]\n",
        "    return difference"
      ]
    },
    {
      "cell_type": "code",
      "execution_count": 21,
      "metadata": {
        "id": "fJ5UCNVCzjHd"
      },
      "outputs": [],
      "source": [
        "def one_simulated_difference_of_means(df, shuffling, result_col):\n",
        "  shuffled_labels = df[shuffling].sample(n=len(df), replace=False).reset_index()[shuffling]\n",
        "  df['Shuffled Label'] = shuffled_labels\n",
        "  difference = difference_of_means(df, result_col, 'Shuffled Label')\n",
        "  return difference"
      ]
    },
    {
      "cell_type": "code",
      "execution_count": 22,
      "metadata": {
        "id": "zGyQ6-_S8Hg1"
      },
      "outputs": [],
      "source": [
        "def permutation_test(df, n, shuffling, result_col):\n",
        "  difs = np.array([])\n",
        "  for i in range(n):\n",
        "    difs = np.append(difs, one_simulated_difference_of_means(df, shuffling, result_col))\n",
        "  actual_dif = difference_of_means(df, shuffling, result_col)\n",
        "  p = np.mean(np.abs(actual_dif[0]) < np.abs(difs))\n",
        "  return p"
      ]
    },
    {
      "cell_type": "markdown",
      "metadata": {
        "id": "2IYmiT5HCzTf"
      },
      "source": [
        "# Hypothesis 1 - Alternative: Veteran status is associated with primary election win rates for Democrats"
      ]
    },
    {
      "cell_type": "code",
      "execution_count": 23,
      "metadata": {
        "colab": {
          "base_uri": "https://localhost:8080/"
        },
        "id": "zdaW6sQMCz2M",
        "outputId": "7d8dc39a-b955-453b-8785-e371235e799e"
      },
      "outputs": [
        {
          "output_type": "execute_result",
          "data": {
            "text/plain": [
              "0.6386"
            ]
          },
          "metadata": {},
          "execution_count": 23
        }
      ],
      "source": [
        "dom_p1 = permutation_test(df_clean, 10000, 'Veteran?', 'Won Primary')\n",
        "dom_p1"
      ]
    },
    {
      "cell_type": "markdown",
      "metadata": {
        "id": "9aEk32O2DAH_"
      },
      "source": [
        "#Hyp 2 Alternative: Race has an association with election primary win rates for Democrats\n"
      ]
    },
    {
      "cell_type": "code",
      "execution_count": 24,
      "metadata": {
        "colab": {
          "base_uri": "https://localhost:8080/"
        },
        "id": "EGzA3SDtDAxF",
        "outputId": "c9fd2573-1faf-4e65-ed14-2dd2165e15d0"
      },
      "outputs": [
        {
          "output_type": "execute_result",
          "data": {
            "text/plain": [
              "0.4604"
            ]
          },
          "metadata": {},
          "execution_count": 24
        }
      ],
      "source": [
        "dom_p2 = permutation_test(df_clean, 10000, 'Race', 'Won Primary')\n",
        "dom_p2"
      ]
    },
    {
      "cell_type": "markdown",
      "metadata": {
        "id": "ITA7nnncEWW-"
      },
      "source": [
        "#Hypothesis 3: Alternative: Being LGBTQ is associated with primary election win rates for Democrats\n",
        "\n"
      ]
    },
    {
      "cell_type": "code",
      "execution_count": 25,
      "metadata": {
        "colab": {
          "base_uri": "https://localhost:8080/"
        },
        "id": "h7I30Xu4FTNg",
        "outputId": "c57149a8-7f0e-490f-d7bd-0999e4ea6dfb"
      },
      "outputs": [
        {
          "output_type": "execute_result",
          "data": {
            "text/plain": [
              "0.0533"
            ]
          },
          "metadata": {},
          "execution_count": 25
        }
      ],
      "source": [
        "dom_p3 = permutation_test(df_clean, 10000, 'LGBTQ?', 'Won Primary')\n",
        "dom_p3"
      ]
    },
    {
      "cell_type": "markdown",
      "metadata": {
        "id": "SHHPmS6NEWiY"
      },
      "source": [
        "# Hypothesis 4: Alternative: Having any kind of endorsement is associated with primary election win rates for Democrats"
      ]
    },
    {
      "cell_type": "code",
      "execution_count": 26,
      "metadata": {
        "colab": {
          "base_uri": "https://localhost:8080/"
        },
        "id": "6HhIwLbFG64d",
        "outputId": "43e246ae-f905-47f6-f945-971093de3e09"
      },
      "outputs": [
        {
          "output_type": "execute_result",
          "data": {
            "text/plain": [
              "0.0"
            ]
          },
          "metadata": {},
          "execution_count": 26
        }
      ],
      "source": [
        "dom_p4 = permutation_test(df_clean, 10000, 'endorsed?_dems', 'Won Primary')\n",
        "dom_p4"
      ]
    },
    {
      "cell_type": "markdown",
      "metadata": {
        "id": "qioRVFHDEWlQ"
      },
      "source": [
        "# Hypothesis 5: Alternative: Having any sort of endorsement is associated with primary election win rate for Republicans"
      ]
    },
    {
      "cell_type": "code",
      "execution_count": 27,
      "metadata": {
        "colab": {
          "base_uri": "https://localhost:8080/",
          "height": 424
        },
        "id": "XCvWXwHButS_",
        "outputId": "520fdbf3-f69f-48ef-dbee-beacd8b14d16"
      },
      "outputs": [
        {
          "output_type": "execute_result",
          "data": {
            "text/plain": [
              "           Candidate  endorsed  Won Primary\n",
              "0      Mike Dunleavy         0            1\n",
              "1    Michael Sheldon         0            0\n",
              "2     Mead Treadwell         0            0\n",
              "3       Darin Colbry         0            0\n",
              "4      Thomas Gordon         0            0\n",
              "..               ...       ...          ...\n",
              "769      Bill Dahlin         0            0\n",
              "770  Harriet Hageman         1            0\n",
              "771     Sam Galeotos         1            0\n",
              "772    Foster Friess         2            0\n",
              "773    Taylor Haynes         1            0\n",
              "\n",
              "[676 rows x 3 columns]"
            ],
            "text/html": [
              "\n",
              "  <div id=\"df-87f53fdb-bef3-4fc6-ab0e-b2e721427bbc\" class=\"colab-df-container\">\n",
              "    <div>\n",
              "<style scoped>\n",
              "    .dataframe tbody tr th:only-of-type {\n",
              "        vertical-align: middle;\n",
              "    }\n",
              "\n",
              "    .dataframe tbody tr th {\n",
              "        vertical-align: top;\n",
              "    }\n",
              "\n",
              "    .dataframe thead th {\n",
              "        text-align: right;\n",
              "    }\n",
              "</style>\n",
              "<table border=\"1\" class=\"dataframe\">\n",
              "  <thead>\n",
              "    <tr style=\"text-align: right;\">\n",
              "      <th></th>\n",
              "      <th>Candidate</th>\n",
              "      <th>endorsed</th>\n",
              "      <th>Won Primary</th>\n",
              "    </tr>\n",
              "  </thead>\n",
              "  <tbody>\n",
              "    <tr>\n",
              "      <th>0</th>\n",
              "      <td>Mike Dunleavy</td>\n",
              "      <td>0</td>\n",
              "      <td>1</td>\n",
              "    </tr>\n",
              "    <tr>\n",
              "      <th>1</th>\n",
              "      <td>Michael Sheldon</td>\n",
              "      <td>0</td>\n",
              "      <td>0</td>\n",
              "    </tr>\n",
              "    <tr>\n",
              "      <th>2</th>\n",
              "      <td>Mead Treadwell</td>\n",
              "      <td>0</td>\n",
              "      <td>0</td>\n",
              "    </tr>\n",
              "    <tr>\n",
              "      <th>3</th>\n",
              "      <td>Darin Colbry</td>\n",
              "      <td>0</td>\n",
              "      <td>0</td>\n",
              "    </tr>\n",
              "    <tr>\n",
              "      <th>4</th>\n",
              "      <td>Thomas Gordon</td>\n",
              "      <td>0</td>\n",
              "      <td>0</td>\n",
              "    </tr>\n",
              "    <tr>\n",
              "      <th>...</th>\n",
              "      <td>...</td>\n",
              "      <td>...</td>\n",
              "      <td>...</td>\n",
              "    </tr>\n",
              "    <tr>\n",
              "      <th>769</th>\n",
              "      <td>Bill Dahlin</td>\n",
              "      <td>0</td>\n",
              "      <td>0</td>\n",
              "    </tr>\n",
              "    <tr>\n",
              "      <th>770</th>\n",
              "      <td>Harriet Hageman</td>\n",
              "      <td>1</td>\n",
              "      <td>0</td>\n",
              "    </tr>\n",
              "    <tr>\n",
              "      <th>771</th>\n",
              "      <td>Sam Galeotos</td>\n",
              "      <td>1</td>\n",
              "      <td>0</td>\n",
              "    </tr>\n",
              "    <tr>\n",
              "      <th>772</th>\n",
              "      <td>Foster Friess</td>\n",
              "      <td>2</td>\n",
              "      <td>0</td>\n",
              "    </tr>\n",
              "    <tr>\n",
              "      <th>773</th>\n",
              "      <td>Taylor Haynes</td>\n",
              "      <td>1</td>\n",
              "      <td>0</td>\n",
              "    </tr>\n",
              "  </tbody>\n",
              "</table>\n",
              "<p>676 rows × 3 columns</p>\n",
              "</div>\n",
              "    <div class=\"colab-df-buttons\">\n",
              "\n",
              "  <div class=\"colab-df-container\">\n",
              "    <button class=\"colab-df-convert\" onclick=\"convertToInteractive('df-87f53fdb-bef3-4fc6-ab0e-b2e721427bbc')\"\n",
              "            title=\"Convert this dataframe to an interactive table.\"\n",
              "            style=\"display:none;\">\n",
              "\n",
              "  <svg xmlns=\"http://www.w3.org/2000/svg\" height=\"24px\" viewBox=\"0 -960 960 960\">\n",
              "    <path d=\"M120-120v-720h720v720H120Zm60-500h600v-160H180v160Zm220 220h160v-160H400v160Zm0 220h160v-160H400v160ZM180-400h160v-160H180v160Zm440 0h160v-160H620v160ZM180-180h160v-160H180v160Zm440 0h160v-160H620v160Z\"/>\n",
              "  </svg>\n",
              "    </button>\n",
              "\n",
              "  <style>\n",
              "    .colab-df-container {\n",
              "      display:flex;\n",
              "      gap: 12px;\n",
              "    }\n",
              "\n",
              "    .colab-df-convert {\n",
              "      background-color: #E8F0FE;\n",
              "      border: none;\n",
              "      border-radius: 50%;\n",
              "      cursor: pointer;\n",
              "      display: none;\n",
              "      fill: #1967D2;\n",
              "      height: 32px;\n",
              "      padding: 0 0 0 0;\n",
              "      width: 32px;\n",
              "    }\n",
              "\n",
              "    .colab-df-convert:hover {\n",
              "      background-color: #E2EBFA;\n",
              "      box-shadow: 0px 1px 2px rgba(60, 64, 67, 0.3), 0px 1px 3px 1px rgba(60, 64, 67, 0.15);\n",
              "      fill: #174EA6;\n",
              "    }\n",
              "\n",
              "    .colab-df-buttons div {\n",
              "      margin-bottom: 4px;\n",
              "    }\n",
              "\n",
              "    [theme=dark] .colab-df-convert {\n",
              "      background-color: #3B4455;\n",
              "      fill: #D2E3FC;\n",
              "    }\n",
              "\n",
              "    [theme=dark] .colab-df-convert:hover {\n",
              "      background-color: #434B5C;\n",
              "      box-shadow: 0px 1px 3px 1px rgba(0, 0, 0, 0.15);\n",
              "      filter: drop-shadow(0px 1px 2px rgba(0, 0, 0, 0.3));\n",
              "      fill: #FFFFFF;\n",
              "    }\n",
              "  </style>\n",
              "\n",
              "    <script>\n",
              "      const buttonEl =\n",
              "        document.querySelector('#df-87f53fdb-bef3-4fc6-ab0e-b2e721427bbc button.colab-df-convert');\n",
              "      buttonEl.style.display =\n",
              "        google.colab.kernel.accessAllowed ? 'block' : 'none';\n",
              "\n",
              "      async function convertToInteractive(key) {\n",
              "        const element = document.querySelector('#df-87f53fdb-bef3-4fc6-ab0e-b2e721427bbc');\n",
              "        const dataTable =\n",
              "          await google.colab.kernel.invokeFunction('convertToInteractive',\n",
              "                                                    [key], {});\n",
              "        if (!dataTable) return;\n",
              "\n",
              "        const docLinkHtml = 'Like what you see? Visit the ' +\n",
              "          '<a target=\"_blank\" href=https://colab.research.google.com/notebooks/data_table.ipynb>data table notebook</a>'\n",
              "          + ' to learn more about interactive tables.';\n",
              "        element.innerHTML = '';\n",
              "        dataTable['output_type'] = 'display_data';\n",
              "        await google.colab.output.renderOutput(dataTable, element);\n",
              "        const docLink = document.createElement('div');\n",
              "        docLink.innerHTML = docLinkHtml;\n",
              "        element.appendChild(docLink);\n",
              "      }\n",
              "    </script>\n",
              "  </div>\n",
              "\n",
              "\n",
              "<div id=\"df-a9b43928-2b98-4dc2-bfb7-73a342af4e74\">\n",
              "  <button class=\"colab-df-quickchart\" onclick=\"quickchart('df-a9b43928-2b98-4dc2-bfb7-73a342af4e74')\"\n",
              "            title=\"Suggest charts\"\n",
              "            style=\"display:none;\">\n",
              "\n",
              "<svg xmlns=\"http://www.w3.org/2000/svg\" height=\"24px\"viewBox=\"0 0 24 24\"\n",
              "     width=\"24px\">\n",
              "    <g>\n",
              "        <path d=\"M19 3H5c-1.1 0-2 .9-2 2v14c0 1.1.9 2 2 2h14c1.1 0 2-.9 2-2V5c0-1.1-.9-2-2-2zM9 17H7v-7h2v7zm4 0h-2V7h2v10zm4 0h-2v-4h2v4z\"/>\n",
              "    </g>\n",
              "</svg>\n",
              "  </button>\n",
              "\n",
              "<style>\n",
              "  .colab-df-quickchart {\n",
              "      --bg-color: #E8F0FE;\n",
              "      --fill-color: #1967D2;\n",
              "      --hover-bg-color: #E2EBFA;\n",
              "      --hover-fill-color: #174EA6;\n",
              "      --disabled-fill-color: #AAA;\n",
              "      --disabled-bg-color: #DDD;\n",
              "  }\n",
              "\n",
              "  [theme=dark] .colab-df-quickchart {\n",
              "      --bg-color: #3B4455;\n",
              "      --fill-color: #D2E3FC;\n",
              "      --hover-bg-color: #434B5C;\n",
              "      --hover-fill-color: #FFFFFF;\n",
              "      --disabled-bg-color: #3B4455;\n",
              "      --disabled-fill-color: #666;\n",
              "  }\n",
              "\n",
              "  .colab-df-quickchart {\n",
              "    background-color: var(--bg-color);\n",
              "    border: none;\n",
              "    border-radius: 50%;\n",
              "    cursor: pointer;\n",
              "    display: none;\n",
              "    fill: var(--fill-color);\n",
              "    height: 32px;\n",
              "    padding: 0;\n",
              "    width: 32px;\n",
              "  }\n",
              "\n",
              "  .colab-df-quickchart:hover {\n",
              "    background-color: var(--hover-bg-color);\n",
              "    box-shadow: 0 1px 2px rgba(60, 64, 67, 0.3), 0 1px 3px 1px rgba(60, 64, 67, 0.15);\n",
              "    fill: var(--button-hover-fill-color);\n",
              "  }\n",
              "\n",
              "  .colab-df-quickchart-complete:disabled,\n",
              "  .colab-df-quickchart-complete:disabled:hover {\n",
              "    background-color: var(--disabled-bg-color);\n",
              "    fill: var(--disabled-fill-color);\n",
              "    box-shadow: none;\n",
              "  }\n",
              "\n",
              "  .colab-df-spinner {\n",
              "    border: 2px solid var(--fill-color);\n",
              "    border-color: transparent;\n",
              "    border-bottom-color: var(--fill-color);\n",
              "    animation:\n",
              "      spin 1s steps(1) infinite;\n",
              "  }\n",
              "\n",
              "  @keyframes spin {\n",
              "    0% {\n",
              "      border-color: transparent;\n",
              "      border-bottom-color: var(--fill-color);\n",
              "      border-left-color: var(--fill-color);\n",
              "    }\n",
              "    20% {\n",
              "      border-color: transparent;\n",
              "      border-left-color: var(--fill-color);\n",
              "      border-top-color: var(--fill-color);\n",
              "    }\n",
              "    30% {\n",
              "      border-color: transparent;\n",
              "      border-left-color: var(--fill-color);\n",
              "      border-top-color: var(--fill-color);\n",
              "      border-right-color: var(--fill-color);\n",
              "    }\n",
              "    40% {\n",
              "      border-color: transparent;\n",
              "      border-right-color: var(--fill-color);\n",
              "      border-top-color: var(--fill-color);\n",
              "    }\n",
              "    60% {\n",
              "      border-color: transparent;\n",
              "      border-right-color: var(--fill-color);\n",
              "    }\n",
              "    80% {\n",
              "      border-color: transparent;\n",
              "      border-right-color: var(--fill-color);\n",
              "      border-bottom-color: var(--fill-color);\n",
              "    }\n",
              "    90% {\n",
              "      border-color: transparent;\n",
              "      border-bottom-color: var(--fill-color);\n",
              "    }\n",
              "  }\n",
              "</style>\n",
              "\n",
              "  <script>\n",
              "    async function quickchart(key) {\n",
              "      const quickchartButtonEl =\n",
              "        document.querySelector('#' + key + ' button');\n",
              "      quickchartButtonEl.disabled = true;  // To prevent multiple clicks.\n",
              "      quickchartButtonEl.classList.add('colab-df-spinner');\n",
              "      try {\n",
              "        const charts = await google.colab.kernel.invokeFunction(\n",
              "            'suggestCharts', [key], {});\n",
              "      } catch (error) {\n",
              "        console.error('Error during call to suggestCharts:', error);\n",
              "      }\n",
              "      quickchartButtonEl.classList.remove('colab-df-spinner');\n",
              "      quickchartButtonEl.classList.add('colab-df-quickchart-complete');\n",
              "    }\n",
              "    (() => {\n",
              "      let quickchartButtonEl =\n",
              "        document.querySelector('#df-a9b43928-2b98-4dc2-bfb7-73a342af4e74 button');\n",
              "      quickchartButtonEl.style.display =\n",
              "        google.colab.kernel.accessAllowed ? 'block' : 'none';\n",
              "    })();\n",
              "  </script>\n",
              "</div>\n",
              "    </div>\n",
              "  </div>\n"
            ]
          },
          "metadata": {},
          "execution_count": 27
        }
      ],
      "source": [
        "df_clean_rep"
      ]
    },
    {
      "cell_type": "code",
      "execution_count": 28,
      "metadata": {
        "colab": {
          "base_uri": "https://localhost:8080/"
        },
        "id": "nLhrqylBLDx5",
        "outputId": "f0fc3741-1429-4542-beef-0baca63aae7f"
      },
      "outputs": [
        {
          "output_type": "execute_result",
          "data": {
            "text/plain": [
              "0.0207"
            ]
          },
          "metadata": {},
          "execution_count": 28
        }
      ],
      "source": [
        "dom_p5 = permutation_test(df_clean_rep, 10000, 'endorsed', 'Won Primary')\n",
        "dom_p5"
      ]
    },
    {
      "cell_type": "code",
      "source": [
        "def pwr(alpha, num_sims, df, group, result):\n",
        "  p_values = np.array([])\n",
        "  for i in range(num_sims):\n",
        "    pv = permutation_test(df, 100, group, result)\n",
        "    #print(pv)\n",
        "    p_values = np.append(p_values, pv)\n",
        "  power = (p_values < alpha).mean()\n",
        "  return power"
      ],
      "metadata": {
        "id": "y2-bNPksTIqm"
      },
      "execution_count": 29,
      "outputs": []
    },
    {
      "cell_type": "code",
      "source": [
        "test_five_power = pwr(0.05, 200, df_clean_rep, 'endorsed', 'Won Primary')"
      ],
      "metadata": {
        "id": "hTNJmj4hTMnH"
      },
      "execution_count": 30,
      "outputs": []
    },
    {
      "cell_type": "code",
      "source": [
        "test_five_power"
      ],
      "metadata": {
        "colab": {
          "base_uri": "https://localhost:8080/"
        },
        "id": "Kak74ra1TT7d",
        "outputId": "0908ee5b-d0e0-4522-9a45-3fa8e5f18c7b"
      },
      "execution_count": 31,
      "outputs": [
        {
          "output_type": "execute_result",
          "data": {
            "text/plain": [
              "0.96"
            ]
          },
          "metadata": {},
          "execution_count": 31
        }
      ]
    },
    {
      "cell_type": "markdown",
      "metadata": {
        "id": "DkYZ4szXEWoJ"
      },
      "source": [
        "# Hypothesis 6: Alternative: Being an endorsed Democrat is associated with higher win rates compared to endorsed Republicans"
      ]
    },
    {
      "cell_type": "code",
      "execution_count": 32,
      "metadata": {
        "id": "TuuXz7mFMkyU"
      },
      "outputs": [],
      "source": [
        "endorsed_rep_reduced = endorsed_rep[['Candidate', 'Won Primary', 'endorsed']]\n",
        "endorsed_rep_reduced = endorsed_rep_reduced.assign(Party='rep')\n",
        "endorsed_dem_reduced = endorsed_dem[['Candidate', 'Won Primary', 'endorsed']]\n",
        "endorsed_dem_reduced = endorsed_dem_reduced.assign(Party='dem')\n",
        "combined = pd.concat([endorsed_rep_reduced, endorsed_dem_reduced])\n",
        "combined = combined[combined['endorsed'] >= 1] # Only care about endorsed candidates for whole question\n",
        "combined['dem?'] = (combined['Party'] == 'dem')"
      ]
    },
    {
      "cell_type": "code",
      "execution_count": 33,
      "metadata": {
        "colab": {
          "base_uri": "https://localhost:8080/"
        },
        "id": "tm3MaeZ3rLLS",
        "outputId": "f986b3bc-b554-418e-cecc-711f77c1c9c1"
      },
      "outputs": [
        {
          "output_type": "execute_result",
          "data": {
            "text/plain": [
              "0.7556"
            ]
          },
          "metadata": {},
          "execution_count": 33
        }
      ],
      "source": [
        "dom_p6 = permutation_test(combined, 10000, 'dem?', 'Won Primary')\n",
        "dom_p6"
      ]
    },
    {
      "cell_type": "code",
      "execution_count": 34,
      "metadata": {
        "id": "RF5R9ItwDTS_"
      },
      "outputs": [],
      "source": [
        "diff_p_vals = np.array([dom_p1, dom_p2, dom_p3, dom_p4, dom_p5, dom_p6])"
      ]
    },
    {
      "cell_type": "markdown",
      "metadata": {
        "id": "sk7Jti89PoPL"
      },
      "source": [
        "### Naive Thresholding"
      ]
    },
    {
      "cell_type": "code",
      "execution_count": 35,
      "metadata": {
        "colab": {
          "base_uri": "https://localhost:8080/"
        },
        "id": "VnIwCvPEPqwU",
        "outputId": "5e78eb8f-dc89-4e99-b203-630fe1f92284"
      },
      "outputs": [
        {
          "output_type": "execute_result",
          "data": {
            "text/plain": [
              "array([False, False, False,  True,  True, False])"
            ]
          },
          "metadata": {},
          "execution_count": 35
        }
      ],
      "source": [
        "diff_p_vals <= .05"
      ]
    },
    {
      "cell_type": "markdown",
      "metadata": {
        "id": "SLMji1w4PTZe"
      },
      "source": [
        "### Boneferroni"
      ]
    },
    {
      "cell_type": "code",
      "execution_count": 36,
      "metadata": {
        "id": "bb9TnHwer2vY"
      },
      "outputs": [],
      "source": [
        "# from lab01\n",
        "def bonferroni(p_values, alpha_total):\n",
        "    n = len(p_values)\n",
        "    decisions = (p_values <= alpha_total/n)\n",
        "    return decisions"
      ]
    },
    {
      "cell_type": "code",
      "execution_count": 37,
      "metadata": {
        "colab": {
          "base_uri": "https://localhost:8080/"
        },
        "id": "h3SlIZqFOX75",
        "outputId": "7368b3d1-b485-4c82-b169-c76cfd9115a5"
      },
      "outputs": [
        {
          "output_type": "execute_result",
          "data": {
            "text/plain": [
              "array([False, False, False,  True, False, False])"
            ]
          },
          "metadata": {},
          "execution_count": 37
        }
      ],
      "source": [
        "bonferroni(p_values=diff_p_vals, alpha_total=.05)"
      ]
    },
    {
      "cell_type": "markdown",
      "metadata": {
        "id": "VZqubp38PV-F"
      },
      "source": [
        "###Benjamini Hochberg"
      ]
    },
    {
      "cell_type": "code",
      "execution_count": 38,
      "metadata": {
        "id": "Y1OW_jz9r7KH"
      },
      "outputs": [],
      "source": [
        "# from lab01\n",
        "def benjamini_hochberg(p_values, alpha):\n",
        "    argmax_list = np.argsort(p_values)\n",
        "    kan_check = []\n",
        "    counter = 0\n",
        "    big_p = 0\n",
        "    for i in range(len(argmax_list)):\n",
        "        kan_check.append(p_values[argmax_list[i]] <= (i + 1) * (alpha / len(p_values)))\n",
        "        if (p_values[argmax_list[i]] <= (i + 1) * (alpha / len(p_values))):\n",
        "            big_p = p_values[argmax_list[i]]\n",
        "    decisions = []\n",
        "    for p in p_values:\n",
        "        if p <= big_p:\n",
        "            decisions.append(1)\n",
        "        else:\n",
        "            decisions.append(0)\n",
        "    return decisions"
      ]
    },
    {
      "cell_type": "code",
      "execution_count": 39,
      "metadata": {
        "colab": {
          "base_uri": "https://localhost:8080/"
        },
        "id": "QvgGGmmaOasF",
        "outputId": "15cf1e73-a71e-4497-c0f4-cd721b430e31"
      },
      "outputs": [
        {
          "output_type": "execute_result",
          "data": {
            "text/plain": [
              "[0, 0, 0, 1, 0, 0]"
            ]
          },
          "metadata": {},
          "execution_count": 39
        }
      ],
      "source": [
        "benjamini_hochberg(p_values=diff_p_vals, alpha=.05)"
      ]
    },
    {
      "cell_type": "markdown",
      "source": [
        "# Bayesian Hierarchical Modeling"
      ],
      "metadata": {
        "id": "IG6_6z8cffeR"
      }
    },
    {
      "cell_type": "code",
      "source": [
        "dem_candidates = pd.read_csv('https://raw.githubusercontent.com/fivethirtyeight/data/master/primary-candidates-2018/dem_candidates.csv')\n",
        "rep_candidates = pd.read_csv('https://raw.githubusercontent.com/fivethirtyeight/data/master/primary-candidates-2018/rep_candidates.csv', encoding='MacRoman')"
      ],
      "metadata": {
        "id": "cdZuhUbplv6_"
      },
      "execution_count": 59,
      "outputs": []
    },
    {
      "cell_type": "code",
      "source": [
        "endorsed_dem = dem_candidates[['Candidate', 'State', 'District', 'Won Primary', 'Emily Endorsed?','Biden Endorsed?', 'Warren Endorsed? ',\n",
        "       'Sanders Endorsed?', 'Our Revolution Endorsed?',\n",
        "       'Justice Dems Endorsed?', 'PCCC Endorsed?', 'Indivisible Endorsed?',\n",
        "       'WFP Endorsed?', 'VoteVets Endorsed?']]"
      ],
      "metadata": {
        "id": "MysSgN3NGJCk"
      },
      "execution_count": 60,
      "outputs": []
    },
    {
      "cell_type": "code",
      "source": [
        "endorsed_dem = endorsed_dem.fillna('No')"
      ],
      "metadata": {
        "id": "z9Euhw7GG1db"
      },
      "execution_count": 61,
      "outputs": []
    },
    {
      "cell_type": "code",
      "source": [
        "endorsed_dem.replace('No', 0, inplace=True)\n",
        "endorsed_dem.replace('Yes', 1, inplace=True)"
      ],
      "metadata": {
        "id": "QsyIFFgqHHzB"
      },
      "execution_count": 62,
      "outputs": []
    },
    {
      "cell_type": "code",
      "source": [
        "endorsed_dem.iloc[:, 4:12].sum(axis=1)"
      ],
      "metadata": {
        "colab": {
          "base_uri": "https://localhost:8080/"
        },
        "id": "GxHRJG_LIQBa",
        "outputId": "357b40ff-47bc-4df6-a2af-60fd26f544fb"
      },
      "execution_count": 63,
      "outputs": [
        {
          "output_type": "execute_result",
          "data": {
            "text/plain": [
              "0      0\n",
              "1      0\n",
              "2      0\n",
              "3      0\n",
              "4      0\n",
              "      ..\n",
              "806    0\n",
              "807    0\n",
              "808    0\n",
              "809    0\n",
              "810    0\n",
              "Length: 811, dtype: int64"
            ]
          },
          "metadata": {},
          "execution_count": 63
        }
      ]
    },
    {
      "cell_type": "code",
      "source": [
        "endorsed_dem['endorsed'] = endorsed_dem.iloc[:, 4:14].sum(axis=1)"
      ],
      "metadata": {
        "id": "YbvjESa7HsTA"
      },
      "execution_count": 64,
      "outputs": []
    },
    {
      "cell_type": "code",
      "source": [
        "endorsed_dem"
      ],
      "metadata": {
        "colab": {
          "base_uri": "https://localhost:8080/",
          "height": 424
        },
        "id": "NGLCnYv5GkLo",
        "outputId": "f0ce405d-4ad8-48a0-c64b-c3ebd13b9031"
      },
      "execution_count": 65,
      "outputs": [
        {
          "output_type": "execute_result",
          "data": {
            "text/plain": [
              "                   Candidate State                             District  \\\n",
              "0    Anthony White (Alabama)    AL                  Governor of Alabama   \n",
              "1     Christopher Countryman    AL                  Governor of Alabama   \n",
              "2      Doug \"New Blue\" Smith    AL                  Governor of Alabama   \n",
              "3            James C. Fields    AL                  Governor of Alabama   \n",
              "4              Sue Bell Cobb    AL                  Governor of Alabama   \n",
              "..                       ...   ...                                  ...   \n",
              "806           Talley Sergent    WV  U.S. House West Virginia District 2   \n",
              "807          Janice Hagerman    WV  U.S. House West Virginia District 3   \n",
              "808               Paul Davis    WV  U.S. House West Virginia District 3   \n",
              "809            Richard Ojeda    WV  U.S. House West Virginia District 3   \n",
              "810             Shirley Love    WV  U.S. House West Virginia District 3   \n",
              "\n",
              "     Won Primary  Emily Endorsed?  Biden Endorsed?  Warren Endorsed?   \\\n",
              "0              0                0                0                  0   \n",
              "1              0                0                0                  0   \n",
              "2              0                0                0                  0   \n",
              "3              0                0                0                  0   \n",
              "4              0                0                0                  0   \n",
              "..           ...              ...              ...                ...   \n",
              "806            1                0                0                  0   \n",
              "807            0                0                0                  0   \n",
              "808            0                0                0                  0   \n",
              "809            1                0                0                  0   \n",
              "810            0                0                0                  0   \n",
              "\n",
              "     Sanders Endorsed?  Our Revolution Endorsed?  Justice Dems Endorsed?  \\\n",
              "0                    0                         0                       0   \n",
              "1                    0                         0                       0   \n",
              "2                    0                         0                       0   \n",
              "3                    0                         0                       0   \n",
              "4                    0                         0                       0   \n",
              "..                 ...                       ...                     ...   \n",
              "806                  0                         0                       0   \n",
              "807                  0                         0                       0   \n",
              "808                  0                         0                       0   \n",
              "809                  0                         0                       0   \n",
              "810                  0                         0                       0   \n",
              "\n",
              "     PCCC Endorsed?  Indivisible Endorsed?  WFP Endorsed?  VoteVets Endorsed?  \\\n",
              "0                 0                      0              0                   0   \n",
              "1                 0                      0              0                   0   \n",
              "2                 0                      0              0                   0   \n",
              "3                 0                      0              0                   0   \n",
              "4                 0                      0              0                   0   \n",
              "..              ...                    ...            ...                 ...   \n",
              "806               0                      0              0                   0   \n",
              "807               0                      0              0                   0   \n",
              "808               0                      0              0                   0   \n",
              "809               0                      0              1                   1   \n",
              "810               0                      0              0                   0   \n",
              "\n",
              "     endorsed  \n",
              "0           0  \n",
              "1           0  \n",
              "2           0  \n",
              "3           0  \n",
              "4           0  \n",
              "..        ...  \n",
              "806         0  \n",
              "807         0  \n",
              "808         0  \n",
              "809         2  \n",
              "810         0  \n",
              "\n",
              "[811 rows x 15 columns]"
            ],
            "text/html": [
              "\n",
              "  <div id=\"df-4922970e-80ea-4a86-974b-58d84c0e7cfa\" class=\"colab-df-container\">\n",
              "    <div>\n",
              "<style scoped>\n",
              "    .dataframe tbody tr th:only-of-type {\n",
              "        vertical-align: middle;\n",
              "    }\n",
              "\n",
              "    .dataframe tbody tr th {\n",
              "        vertical-align: top;\n",
              "    }\n",
              "\n",
              "    .dataframe thead th {\n",
              "        text-align: right;\n",
              "    }\n",
              "</style>\n",
              "<table border=\"1\" class=\"dataframe\">\n",
              "  <thead>\n",
              "    <tr style=\"text-align: right;\">\n",
              "      <th></th>\n",
              "      <th>Candidate</th>\n",
              "      <th>State</th>\n",
              "      <th>District</th>\n",
              "      <th>Won Primary</th>\n",
              "      <th>Emily Endorsed?</th>\n",
              "      <th>Biden Endorsed?</th>\n",
              "      <th>Warren Endorsed?</th>\n",
              "      <th>Sanders Endorsed?</th>\n",
              "      <th>Our Revolution Endorsed?</th>\n",
              "      <th>Justice Dems Endorsed?</th>\n",
              "      <th>PCCC Endorsed?</th>\n",
              "      <th>Indivisible Endorsed?</th>\n",
              "      <th>WFP Endorsed?</th>\n",
              "      <th>VoteVets Endorsed?</th>\n",
              "      <th>endorsed</th>\n",
              "    </tr>\n",
              "  </thead>\n",
              "  <tbody>\n",
              "    <tr>\n",
              "      <th>0</th>\n",
              "      <td>Anthony White (Alabama)</td>\n",
              "      <td>AL</td>\n",
              "      <td>Governor of Alabama</td>\n",
              "      <td>0</td>\n",
              "      <td>0</td>\n",
              "      <td>0</td>\n",
              "      <td>0</td>\n",
              "      <td>0</td>\n",
              "      <td>0</td>\n",
              "      <td>0</td>\n",
              "      <td>0</td>\n",
              "      <td>0</td>\n",
              "      <td>0</td>\n",
              "      <td>0</td>\n",
              "      <td>0</td>\n",
              "    </tr>\n",
              "    <tr>\n",
              "      <th>1</th>\n",
              "      <td>Christopher Countryman</td>\n",
              "      <td>AL</td>\n",
              "      <td>Governor of Alabama</td>\n",
              "      <td>0</td>\n",
              "      <td>0</td>\n",
              "      <td>0</td>\n",
              "      <td>0</td>\n",
              "      <td>0</td>\n",
              "      <td>0</td>\n",
              "      <td>0</td>\n",
              "      <td>0</td>\n",
              "      <td>0</td>\n",
              "      <td>0</td>\n",
              "      <td>0</td>\n",
              "      <td>0</td>\n",
              "    </tr>\n",
              "    <tr>\n",
              "      <th>2</th>\n",
              "      <td>Doug \"New Blue\" Smith</td>\n",
              "      <td>AL</td>\n",
              "      <td>Governor of Alabama</td>\n",
              "      <td>0</td>\n",
              "      <td>0</td>\n",
              "      <td>0</td>\n",
              "      <td>0</td>\n",
              "      <td>0</td>\n",
              "      <td>0</td>\n",
              "      <td>0</td>\n",
              "      <td>0</td>\n",
              "      <td>0</td>\n",
              "      <td>0</td>\n",
              "      <td>0</td>\n",
              "      <td>0</td>\n",
              "    </tr>\n",
              "    <tr>\n",
              "      <th>3</th>\n",
              "      <td>James C. Fields</td>\n",
              "      <td>AL</td>\n",
              "      <td>Governor of Alabama</td>\n",
              "      <td>0</td>\n",
              "      <td>0</td>\n",
              "      <td>0</td>\n",
              "      <td>0</td>\n",
              "      <td>0</td>\n",
              "      <td>0</td>\n",
              "      <td>0</td>\n",
              "      <td>0</td>\n",
              "      <td>0</td>\n",
              "      <td>0</td>\n",
              "      <td>0</td>\n",
              "      <td>0</td>\n",
              "    </tr>\n",
              "    <tr>\n",
              "      <th>4</th>\n",
              "      <td>Sue Bell Cobb</td>\n",
              "      <td>AL</td>\n",
              "      <td>Governor of Alabama</td>\n",
              "      <td>0</td>\n",
              "      <td>0</td>\n",
              "      <td>0</td>\n",
              "      <td>0</td>\n",
              "      <td>0</td>\n",
              "      <td>0</td>\n",
              "      <td>0</td>\n",
              "      <td>0</td>\n",
              "      <td>0</td>\n",
              "      <td>0</td>\n",
              "      <td>0</td>\n",
              "      <td>0</td>\n",
              "    </tr>\n",
              "    <tr>\n",
              "      <th>...</th>\n",
              "      <td>...</td>\n",
              "      <td>...</td>\n",
              "      <td>...</td>\n",
              "      <td>...</td>\n",
              "      <td>...</td>\n",
              "      <td>...</td>\n",
              "      <td>...</td>\n",
              "      <td>...</td>\n",
              "      <td>...</td>\n",
              "      <td>...</td>\n",
              "      <td>...</td>\n",
              "      <td>...</td>\n",
              "      <td>...</td>\n",
              "      <td>...</td>\n",
              "      <td>...</td>\n",
              "    </tr>\n",
              "    <tr>\n",
              "      <th>806</th>\n",
              "      <td>Talley Sergent</td>\n",
              "      <td>WV</td>\n",
              "      <td>U.S. House West Virginia District 2</td>\n",
              "      <td>1</td>\n",
              "      <td>0</td>\n",
              "      <td>0</td>\n",
              "      <td>0</td>\n",
              "      <td>0</td>\n",
              "      <td>0</td>\n",
              "      <td>0</td>\n",
              "      <td>0</td>\n",
              "      <td>0</td>\n",
              "      <td>0</td>\n",
              "      <td>0</td>\n",
              "      <td>0</td>\n",
              "    </tr>\n",
              "    <tr>\n",
              "      <th>807</th>\n",
              "      <td>Janice Hagerman</td>\n",
              "      <td>WV</td>\n",
              "      <td>U.S. House West Virginia District 3</td>\n",
              "      <td>0</td>\n",
              "      <td>0</td>\n",
              "      <td>0</td>\n",
              "      <td>0</td>\n",
              "      <td>0</td>\n",
              "      <td>0</td>\n",
              "      <td>0</td>\n",
              "      <td>0</td>\n",
              "      <td>0</td>\n",
              "      <td>0</td>\n",
              "      <td>0</td>\n",
              "      <td>0</td>\n",
              "    </tr>\n",
              "    <tr>\n",
              "      <th>808</th>\n",
              "      <td>Paul Davis</td>\n",
              "      <td>WV</td>\n",
              "      <td>U.S. House West Virginia District 3</td>\n",
              "      <td>0</td>\n",
              "      <td>0</td>\n",
              "      <td>0</td>\n",
              "      <td>0</td>\n",
              "      <td>0</td>\n",
              "      <td>0</td>\n",
              "      <td>0</td>\n",
              "      <td>0</td>\n",
              "      <td>0</td>\n",
              "      <td>0</td>\n",
              "      <td>0</td>\n",
              "      <td>0</td>\n",
              "    </tr>\n",
              "    <tr>\n",
              "      <th>809</th>\n",
              "      <td>Richard Ojeda</td>\n",
              "      <td>WV</td>\n",
              "      <td>U.S. House West Virginia District 3</td>\n",
              "      <td>1</td>\n",
              "      <td>0</td>\n",
              "      <td>0</td>\n",
              "      <td>0</td>\n",
              "      <td>0</td>\n",
              "      <td>0</td>\n",
              "      <td>0</td>\n",
              "      <td>0</td>\n",
              "      <td>0</td>\n",
              "      <td>1</td>\n",
              "      <td>1</td>\n",
              "      <td>2</td>\n",
              "    </tr>\n",
              "    <tr>\n",
              "      <th>810</th>\n",
              "      <td>Shirley Love</td>\n",
              "      <td>WV</td>\n",
              "      <td>U.S. House West Virginia District 3</td>\n",
              "      <td>0</td>\n",
              "      <td>0</td>\n",
              "      <td>0</td>\n",
              "      <td>0</td>\n",
              "      <td>0</td>\n",
              "      <td>0</td>\n",
              "      <td>0</td>\n",
              "      <td>0</td>\n",
              "      <td>0</td>\n",
              "      <td>0</td>\n",
              "      <td>0</td>\n",
              "      <td>0</td>\n",
              "    </tr>\n",
              "  </tbody>\n",
              "</table>\n",
              "<p>811 rows × 15 columns</p>\n",
              "</div>\n",
              "    <div class=\"colab-df-buttons\">\n",
              "\n",
              "  <div class=\"colab-df-container\">\n",
              "    <button class=\"colab-df-convert\" onclick=\"convertToInteractive('df-4922970e-80ea-4a86-974b-58d84c0e7cfa')\"\n",
              "            title=\"Convert this dataframe to an interactive table.\"\n",
              "            style=\"display:none;\">\n",
              "\n",
              "  <svg xmlns=\"http://www.w3.org/2000/svg\" height=\"24px\" viewBox=\"0 -960 960 960\">\n",
              "    <path d=\"M120-120v-720h720v720H120Zm60-500h600v-160H180v160Zm220 220h160v-160H400v160Zm0 220h160v-160H400v160ZM180-400h160v-160H180v160Zm440 0h160v-160H620v160ZM180-180h160v-160H180v160Zm440 0h160v-160H620v160Z\"/>\n",
              "  </svg>\n",
              "    </button>\n",
              "\n",
              "  <style>\n",
              "    .colab-df-container {\n",
              "      display:flex;\n",
              "      gap: 12px;\n",
              "    }\n",
              "\n",
              "    .colab-df-convert {\n",
              "      background-color: #E8F0FE;\n",
              "      border: none;\n",
              "      border-radius: 50%;\n",
              "      cursor: pointer;\n",
              "      display: none;\n",
              "      fill: #1967D2;\n",
              "      height: 32px;\n",
              "      padding: 0 0 0 0;\n",
              "      width: 32px;\n",
              "    }\n",
              "\n",
              "    .colab-df-convert:hover {\n",
              "      background-color: #E2EBFA;\n",
              "      box-shadow: 0px 1px 2px rgba(60, 64, 67, 0.3), 0px 1px 3px 1px rgba(60, 64, 67, 0.15);\n",
              "      fill: #174EA6;\n",
              "    }\n",
              "\n",
              "    .colab-df-buttons div {\n",
              "      margin-bottom: 4px;\n",
              "    }\n",
              "\n",
              "    [theme=dark] .colab-df-convert {\n",
              "      background-color: #3B4455;\n",
              "      fill: #D2E3FC;\n",
              "    }\n",
              "\n",
              "    [theme=dark] .colab-df-convert:hover {\n",
              "      background-color: #434B5C;\n",
              "      box-shadow: 0px 1px 3px 1px rgba(0, 0, 0, 0.15);\n",
              "      filter: drop-shadow(0px 1px 2px rgba(0, 0, 0, 0.3));\n",
              "      fill: #FFFFFF;\n",
              "    }\n",
              "  </style>\n",
              "\n",
              "    <script>\n",
              "      const buttonEl =\n",
              "        document.querySelector('#df-4922970e-80ea-4a86-974b-58d84c0e7cfa button.colab-df-convert');\n",
              "      buttonEl.style.display =\n",
              "        google.colab.kernel.accessAllowed ? 'block' : 'none';\n",
              "\n",
              "      async function convertToInteractive(key) {\n",
              "        const element = document.querySelector('#df-4922970e-80ea-4a86-974b-58d84c0e7cfa');\n",
              "        const dataTable =\n",
              "          await google.colab.kernel.invokeFunction('convertToInteractive',\n",
              "                                                    [key], {});\n",
              "        if (!dataTable) return;\n",
              "\n",
              "        const docLinkHtml = 'Like what you see? Visit the ' +\n",
              "          '<a target=\"_blank\" href=https://colab.research.google.com/notebooks/data_table.ipynb>data table notebook</a>'\n",
              "          + ' to learn more about interactive tables.';\n",
              "        element.innerHTML = '';\n",
              "        dataTable['output_type'] = 'display_data';\n",
              "        await google.colab.output.renderOutput(dataTable, element);\n",
              "        const docLink = document.createElement('div');\n",
              "        docLink.innerHTML = docLinkHtml;\n",
              "        element.appendChild(docLink);\n",
              "      }\n",
              "    </script>\n",
              "  </div>\n",
              "\n",
              "\n",
              "<div id=\"df-3ea147b6-db19-4c3a-817c-976f0fb55f12\">\n",
              "  <button class=\"colab-df-quickchart\" onclick=\"quickchart('df-3ea147b6-db19-4c3a-817c-976f0fb55f12')\"\n",
              "            title=\"Suggest charts\"\n",
              "            style=\"display:none;\">\n",
              "\n",
              "<svg xmlns=\"http://www.w3.org/2000/svg\" height=\"24px\"viewBox=\"0 0 24 24\"\n",
              "     width=\"24px\">\n",
              "    <g>\n",
              "        <path d=\"M19 3H5c-1.1 0-2 .9-2 2v14c0 1.1.9 2 2 2h14c1.1 0 2-.9 2-2V5c0-1.1-.9-2-2-2zM9 17H7v-7h2v7zm4 0h-2V7h2v10zm4 0h-2v-4h2v4z\"/>\n",
              "    </g>\n",
              "</svg>\n",
              "  </button>\n",
              "\n",
              "<style>\n",
              "  .colab-df-quickchart {\n",
              "      --bg-color: #E8F0FE;\n",
              "      --fill-color: #1967D2;\n",
              "      --hover-bg-color: #E2EBFA;\n",
              "      --hover-fill-color: #174EA6;\n",
              "      --disabled-fill-color: #AAA;\n",
              "      --disabled-bg-color: #DDD;\n",
              "  }\n",
              "\n",
              "  [theme=dark] .colab-df-quickchart {\n",
              "      --bg-color: #3B4455;\n",
              "      --fill-color: #D2E3FC;\n",
              "      --hover-bg-color: #434B5C;\n",
              "      --hover-fill-color: #FFFFFF;\n",
              "      --disabled-bg-color: #3B4455;\n",
              "      --disabled-fill-color: #666;\n",
              "  }\n",
              "\n",
              "  .colab-df-quickchart {\n",
              "    background-color: var(--bg-color);\n",
              "    border: none;\n",
              "    border-radius: 50%;\n",
              "    cursor: pointer;\n",
              "    display: none;\n",
              "    fill: var(--fill-color);\n",
              "    height: 32px;\n",
              "    padding: 0;\n",
              "    width: 32px;\n",
              "  }\n",
              "\n",
              "  .colab-df-quickchart:hover {\n",
              "    background-color: var(--hover-bg-color);\n",
              "    box-shadow: 0 1px 2px rgba(60, 64, 67, 0.3), 0 1px 3px 1px rgba(60, 64, 67, 0.15);\n",
              "    fill: var(--button-hover-fill-color);\n",
              "  }\n",
              "\n",
              "  .colab-df-quickchart-complete:disabled,\n",
              "  .colab-df-quickchart-complete:disabled:hover {\n",
              "    background-color: var(--disabled-bg-color);\n",
              "    fill: var(--disabled-fill-color);\n",
              "    box-shadow: none;\n",
              "  }\n",
              "\n",
              "  .colab-df-spinner {\n",
              "    border: 2px solid var(--fill-color);\n",
              "    border-color: transparent;\n",
              "    border-bottom-color: var(--fill-color);\n",
              "    animation:\n",
              "      spin 1s steps(1) infinite;\n",
              "  }\n",
              "\n",
              "  @keyframes spin {\n",
              "    0% {\n",
              "      border-color: transparent;\n",
              "      border-bottom-color: var(--fill-color);\n",
              "      border-left-color: var(--fill-color);\n",
              "    }\n",
              "    20% {\n",
              "      border-color: transparent;\n",
              "      border-left-color: var(--fill-color);\n",
              "      border-top-color: var(--fill-color);\n",
              "    }\n",
              "    30% {\n",
              "      border-color: transparent;\n",
              "      border-left-color: var(--fill-color);\n",
              "      border-top-color: var(--fill-color);\n",
              "      border-right-color: var(--fill-color);\n",
              "    }\n",
              "    40% {\n",
              "      border-color: transparent;\n",
              "      border-right-color: var(--fill-color);\n",
              "      border-top-color: var(--fill-color);\n",
              "    }\n",
              "    60% {\n",
              "      border-color: transparent;\n",
              "      border-right-color: var(--fill-color);\n",
              "    }\n",
              "    80% {\n",
              "      border-color: transparent;\n",
              "      border-right-color: var(--fill-color);\n",
              "      border-bottom-color: var(--fill-color);\n",
              "    }\n",
              "    90% {\n",
              "      border-color: transparent;\n",
              "      border-bottom-color: var(--fill-color);\n",
              "    }\n",
              "  }\n",
              "</style>\n",
              "\n",
              "  <script>\n",
              "    async function quickchart(key) {\n",
              "      const quickchartButtonEl =\n",
              "        document.querySelector('#' + key + ' button');\n",
              "      quickchartButtonEl.disabled = true;  // To prevent multiple clicks.\n",
              "      quickchartButtonEl.classList.add('colab-df-spinner');\n",
              "      try {\n",
              "        const charts = await google.colab.kernel.invokeFunction(\n",
              "            'suggestCharts', [key], {});\n",
              "      } catch (error) {\n",
              "        console.error('Error during call to suggestCharts:', error);\n",
              "      }\n",
              "      quickchartButtonEl.classList.remove('colab-df-spinner');\n",
              "      quickchartButtonEl.classList.add('colab-df-quickchart-complete');\n",
              "    }\n",
              "    (() => {\n",
              "      let quickchartButtonEl =\n",
              "        document.querySelector('#df-3ea147b6-db19-4c3a-817c-976f0fb55f12 button');\n",
              "      quickchartButtonEl.style.display =\n",
              "        google.colab.kernel.accessAllowed ? 'block' : 'none';\n",
              "    })();\n",
              "  </script>\n",
              "</div>\n",
              "    </div>\n",
              "  </div>\n"
            ]
          },
          "metadata": {},
          "execution_count": 65
        }
      ]
    },
    {
      "cell_type": "code",
      "source": [
        "dem_candidates.groupby('Office Type').count()"
      ],
      "metadata": {
        "colab": {
          "base_uri": "https://localhost:8080/",
          "height": 222
        },
        "id": "DPyjwnJ5H02z",
        "outputId": "2ea50d88-fbc2-41c1-ca13-d549fe278b55"
      },
      "execution_count": 66,
      "outputs": [
        {
          "output_type": "execute_result",
          "data": {
            "text/plain": [
              "                Candidate  State  District  Race Type  \\\n",
              "Office Type                                             \n",
              "Governor              100    100       100        100   \n",
              "Representative        687    687       687        687   \n",
              "Senator                24     24        24         24   \n",
              "\n",
              "                Race Primary Election Date  Primary Status  \\\n",
              "Office Type                                                  \n",
              "Governor                               100             100   \n",
              "Representative                         687             687   \n",
              "Senator                                 24              24   \n",
              "\n",
              "                Primary Runoff Status  General Status  Partisan Lean  \\\n",
              "Office Type                                                            \n",
              "Governor                          100             100            100   \n",
              "Representative                    687             665            687   \n",
              "Senator                            24              24             24   \n",
              "\n",
              "                Primary %  ...  Biden Endorsed?  Warren Endorsed?   \\\n",
              "Office Type                ...                                       \n",
              "Governor              100  ...                0                  6   \n",
              "Representative        677  ...               30                 20   \n",
              "Senator                24  ...                9                  0   \n",
              "\n",
              "                Sanders Endorsed?  Our Revolution Endorsed?  \\\n",
              "Office Type                                                   \n",
              "Governor                       13                        51   \n",
              "Representative                 16                       266   \n",
              "Senator                         0                         6   \n",
              "\n",
              "                Justice Dems Endorsed?  PCCC Endorsed?  Indivisible Endorsed?  \\\n",
              "Office Type                                                                     \n",
              "Governor                            12              11                     12   \n",
              "Representative                     187              44                    125   \n",
              "Senator                              0               0                      3   \n",
              "\n",
              "                WFP Endorsed?  VoteVets Endorsed?  No Labels Support?  \n",
              "Office Type                                                            \n",
              "Governor                   32                   1                   0  \n",
              "Representative             72                  96                  14  \n",
              "Senator                     0                   0                   0  \n",
              "\n",
              "[3 rows x 31 columns]"
            ],
            "text/html": [
              "\n",
              "  <div id=\"df-f422f9a9-74a7-40db-b09a-366fbb393a17\" class=\"colab-df-container\">\n",
              "    <div>\n",
              "<style scoped>\n",
              "    .dataframe tbody tr th:only-of-type {\n",
              "        vertical-align: middle;\n",
              "    }\n",
              "\n",
              "    .dataframe tbody tr th {\n",
              "        vertical-align: top;\n",
              "    }\n",
              "\n",
              "    .dataframe thead th {\n",
              "        text-align: right;\n",
              "    }\n",
              "</style>\n",
              "<table border=\"1\" class=\"dataframe\">\n",
              "  <thead>\n",
              "    <tr style=\"text-align: right;\">\n",
              "      <th></th>\n",
              "      <th>Candidate</th>\n",
              "      <th>State</th>\n",
              "      <th>District</th>\n",
              "      <th>Race Type</th>\n",
              "      <th>Race Primary Election Date</th>\n",
              "      <th>Primary Status</th>\n",
              "      <th>Primary Runoff Status</th>\n",
              "      <th>General Status</th>\n",
              "      <th>Partisan Lean</th>\n",
              "      <th>Primary %</th>\n",
              "      <th>...</th>\n",
              "      <th>Biden Endorsed?</th>\n",
              "      <th>Warren Endorsed?</th>\n",
              "      <th>Sanders Endorsed?</th>\n",
              "      <th>Our Revolution Endorsed?</th>\n",
              "      <th>Justice Dems Endorsed?</th>\n",
              "      <th>PCCC Endorsed?</th>\n",
              "      <th>Indivisible Endorsed?</th>\n",
              "      <th>WFP Endorsed?</th>\n",
              "      <th>VoteVets Endorsed?</th>\n",
              "      <th>No Labels Support?</th>\n",
              "    </tr>\n",
              "    <tr>\n",
              "      <th>Office Type</th>\n",
              "      <th></th>\n",
              "      <th></th>\n",
              "      <th></th>\n",
              "      <th></th>\n",
              "      <th></th>\n",
              "      <th></th>\n",
              "      <th></th>\n",
              "      <th></th>\n",
              "      <th></th>\n",
              "      <th></th>\n",
              "      <th></th>\n",
              "      <th></th>\n",
              "      <th></th>\n",
              "      <th></th>\n",
              "      <th></th>\n",
              "      <th></th>\n",
              "      <th></th>\n",
              "      <th></th>\n",
              "      <th></th>\n",
              "      <th></th>\n",
              "      <th></th>\n",
              "    </tr>\n",
              "  </thead>\n",
              "  <tbody>\n",
              "    <tr>\n",
              "      <th>Governor</th>\n",
              "      <td>100</td>\n",
              "      <td>100</td>\n",
              "      <td>100</td>\n",
              "      <td>100</td>\n",
              "      <td>100</td>\n",
              "      <td>100</td>\n",
              "      <td>100</td>\n",
              "      <td>100</td>\n",
              "      <td>100</td>\n",
              "      <td>100</td>\n",
              "      <td>...</td>\n",
              "      <td>0</td>\n",
              "      <td>6</td>\n",
              "      <td>13</td>\n",
              "      <td>51</td>\n",
              "      <td>12</td>\n",
              "      <td>11</td>\n",
              "      <td>12</td>\n",
              "      <td>32</td>\n",
              "      <td>1</td>\n",
              "      <td>0</td>\n",
              "    </tr>\n",
              "    <tr>\n",
              "      <th>Representative</th>\n",
              "      <td>687</td>\n",
              "      <td>687</td>\n",
              "      <td>687</td>\n",
              "      <td>687</td>\n",
              "      <td>687</td>\n",
              "      <td>687</td>\n",
              "      <td>687</td>\n",
              "      <td>665</td>\n",
              "      <td>687</td>\n",
              "      <td>677</td>\n",
              "      <td>...</td>\n",
              "      <td>30</td>\n",
              "      <td>20</td>\n",
              "      <td>16</td>\n",
              "      <td>266</td>\n",
              "      <td>187</td>\n",
              "      <td>44</td>\n",
              "      <td>125</td>\n",
              "      <td>72</td>\n",
              "      <td>96</td>\n",
              "      <td>14</td>\n",
              "    </tr>\n",
              "    <tr>\n",
              "      <th>Senator</th>\n",
              "      <td>24</td>\n",
              "      <td>24</td>\n",
              "      <td>24</td>\n",
              "      <td>24</td>\n",
              "      <td>24</td>\n",
              "      <td>24</td>\n",
              "      <td>24</td>\n",
              "      <td>24</td>\n",
              "      <td>24</td>\n",
              "      <td>24</td>\n",
              "      <td>...</td>\n",
              "      <td>9</td>\n",
              "      <td>0</td>\n",
              "      <td>0</td>\n",
              "      <td>6</td>\n",
              "      <td>0</td>\n",
              "      <td>0</td>\n",
              "      <td>3</td>\n",
              "      <td>0</td>\n",
              "      <td>0</td>\n",
              "      <td>0</td>\n",
              "    </tr>\n",
              "  </tbody>\n",
              "</table>\n",
              "<p>3 rows × 31 columns</p>\n",
              "</div>\n",
              "    <div class=\"colab-df-buttons\">\n",
              "\n",
              "  <div class=\"colab-df-container\">\n",
              "    <button class=\"colab-df-convert\" onclick=\"convertToInteractive('df-f422f9a9-74a7-40db-b09a-366fbb393a17')\"\n",
              "            title=\"Convert this dataframe to an interactive table.\"\n",
              "            style=\"display:none;\">\n",
              "\n",
              "  <svg xmlns=\"http://www.w3.org/2000/svg\" height=\"24px\" viewBox=\"0 -960 960 960\">\n",
              "    <path d=\"M120-120v-720h720v720H120Zm60-500h600v-160H180v160Zm220 220h160v-160H400v160Zm0 220h160v-160H400v160ZM180-400h160v-160H180v160Zm440 0h160v-160H620v160ZM180-180h160v-160H180v160Zm440 0h160v-160H620v160Z\"/>\n",
              "  </svg>\n",
              "    </button>\n",
              "\n",
              "  <style>\n",
              "    .colab-df-container {\n",
              "      display:flex;\n",
              "      gap: 12px;\n",
              "    }\n",
              "\n",
              "    .colab-df-convert {\n",
              "      background-color: #E8F0FE;\n",
              "      border: none;\n",
              "      border-radius: 50%;\n",
              "      cursor: pointer;\n",
              "      display: none;\n",
              "      fill: #1967D2;\n",
              "      height: 32px;\n",
              "      padding: 0 0 0 0;\n",
              "      width: 32px;\n",
              "    }\n",
              "\n",
              "    .colab-df-convert:hover {\n",
              "      background-color: #E2EBFA;\n",
              "      box-shadow: 0px 1px 2px rgba(60, 64, 67, 0.3), 0px 1px 3px 1px rgba(60, 64, 67, 0.15);\n",
              "      fill: #174EA6;\n",
              "    }\n",
              "\n",
              "    .colab-df-buttons div {\n",
              "      margin-bottom: 4px;\n",
              "    }\n",
              "\n",
              "    [theme=dark] .colab-df-convert {\n",
              "      background-color: #3B4455;\n",
              "      fill: #D2E3FC;\n",
              "    }\n",
              "\n",
              "    [theme=dark] .colab-df-convert:hover {\n",
              "      background-color: #434B5C;\n",
              "      box-shadow: 0px 1px 3px 1px rgba(0, 0, 0, 0.15);\n",
              "      filter: drop-shadow(0px 1px 2px rgba(0, 0, 0, 0.3));\n",
              "      fill: #FFFFFF;\n",
              "    }\n",
              "  </style>\n",
              "\n",
              "    <script>\n",
              "      const buttonEl =\n",
              "        document.querySelector('#df-f422f9a9-74a7-40db-b09a-366fbb393a17 button.colab-df-convert');\n",
              "      buttonEl.style.display =\n",
              "        google.colab.kernel.accessAllowed ? 'block' : 'none';\n",
              "\n",
              "      async function convertToInteractive(key) {\n",
              "        const element = document.querySelector('#df-f422f9a9-74a7-40db-b09a-366fbb393a17');\n",
              "        const dataTable =\n",
              "          await google.colab.kernel.invokeFunction('convertToInteractive',\n",
              "                                                    [key], {});\n",
              "        if (!dataTable) return;\n",
              "\n",
              "        const docLinkHtml = 'Like what you see? Visit the ' +\n",
              "          '<a target=\"_blank\" href=https://colab.research.google.com/notebooks/data_table.ipynb>data table notebook</a>'\n",
              "          + ' to learn more about interactive tables.';\n",
              "        element.innerHTML = '';\n",
              "        dataTable['output_type'] = 'display_data';\n",
              "        await google.colab.output.renderOutput(dataTable, element);\n",
              "        const docLink = document.createElement('div');\n",
              "        docLink.innerHTML = docLinkHtml;\n",
              "        element.appendChild(docLink);\n",
              "      }\n",
              "    </script>\n",
              "  </div>\n",
              "\n",
              "\n",
              "<div id=\"df-f5d5ee9d-6c30-48bd-a9b0-4f387ec39705\">\n",
              "  <button class=\"colab-df-quickchart\" onclick=\"quickchart('df-f5d5ee9d-6c30-48bd-a9b0-4f387ec39705')\"\n",
              "            title=\"Suggest charts\"\n",
              "            style=\"display:none;\">\n",
              "\n",
              "<svg xmlns=\"http://www.w3.org/2000/svg\" height=\"24px\"viewBox=\"0 0 24 24\"\n",
              "     width=\"24px\">\n",
              "    <g>\n",
              "        <path d=\"M19 3H5c-1.1 0-2 .9-2 2v14c0 1.1.9 2 2 2h14c1.1 0 2-.9 2-2V5c0-1.1-.9-2-2-2zM9 17H7v-7h2v7zm4 0h-2V7h2v10zm4 0h-2v-4h2v4z\"/>\n",
              "    </g>\n",
              "</svg>\n",
              "  </button>\n",
              "\n",
              "<style>\n",
              "  .colab-df-quickchart {\n",
              "      --bg-color: #E8F0FE;\n",
              "      --fill-color: #1967D2;\n",
              "      --hover-bg-color: #E2EBFA;\n",
              "      --hover-fill-color: #174EA6;\n",
              "      --disabled-fill-color: #AAA;\n",
              "      --disabled-bg-color: #DDD;\n",
              "  }\n",
              "\n",
              "  [theme=dark] .colab-df-quickchart {\n",
              "      --bg-color: #3B4455;\n",
              "      --fill-color: #D2E3FC;\n",
              "      --hover-bg-color: #434B5C;\n",
              "      --hover-fill-color: #FFFFFF;\n",
              "      --disabled-bg-color: #3B4455;\n",
              "      --disabled-fill-color: #666;\n",
              "  }\n",
              "\n",
              "  .colab-df-quickchart {\n",
              "    background-color: var(--bg-color);\n",
              "    border: none;\n",
              "    border-radius: 50%;\n",
              "    cursor: pointer;\n",
              "    display: none;\n",
              "    fill: var(--fill-color);\n",
              "    height: 32px;\n",
              "    padding: 0;\n",
              "    width: 32px;\n",
              "  }\n",
              "\n",
              "  .colab-df-quickchart:hover {\n",
              "    background-color: var(--hover-bg-color);\n",
              "    box-shadow: 0 1px 2px rgba(60, 64, 67, 0.3), 0 1px 3px 1px rgba(60, 64, 67, 0.15);\n",
              "    fill: var(--button-hover-fill-color);\n",
              "  }\n",
              "\n",
              "  .colab-df-quickchart-complete:disabled,\n",
              "  .colab-df-quickchart-complete:disabled:hover {\n",
              "    background-color: var(--disabled-bg-color);\n",
              "    fill: var(--disabled-fill-color);\n",
              "    box-shadow: none;\n",
              "  }\n",
              "\n",
              "  .colab-df-spinner {\n",
              "    border: 2px solid var(--fill-color);\n",
              "    border-color: transparent;\n",
              "    border-bottom-color: var(--fill-color);\n",
              "    animation:\n",
              "      spin 1s steps(1) infinite;\n",
              "  }\n",
              "\n",
              "  @keyframes spin {\n",
              "    0% {\n",
              "      border-color: transparent;\n",
              "      border-bottom-color: var(--fill-color);\n",
              "      border-left-color: var(--fill-color);\n",
              "    }\n",
              "    20% {\n",
              "      border-color: transparent;\n",
              "      border-left-color: var(--fill-color);\n",
              "      border-top-color: var(--fill-color);\n",
              "    }\n",
              "    30% {\n",
              "      border-color: transparent;\n",
              "      border-left-color: var(--fill-color);\n",
              "      border-top-color: var(--fill-color);\n",
              "      border-right-color: var(--fill-color);\n",
              "    }\n",
              "    40% {\n",
              "      border-color: transparent;\n",
              "      border-right-color: var(--fill-color);\n",
              "      border-top-color: var(--fill-color);\n",
              "    }\n",
              "    60% {\n",
              "      border-color: transparent;\n",
              "      border-right-color: var(--fill-color);\n",
              "    }\n",
              "    80% {\n",
              "      border-color: transparent;\n",
              "      border-right-color: var(--fill-color);\n",
              "      border-bottom-color: var(--fill-color);\n",
              "    }\n",
              "    90% {\n",
              "      border-color: transparent;\n",
              "      border-bottom-color: var(--fill-color);\n",
              "    }\n",
              "  }\n",
              "</style>\n",
              "\n",
              "  <script>\n",
              "    async function quickchart(key) {\n",
              "      const quickchartButtonEl =\n",
              "        document.querySelector('#' + key + ' button');\n",
              "      quickchartButtonEl.disabled = true;  // To prevent multiple clicks.\n",
              "      quickchartButtonEl.classList.add('colab-df-spinner');\n",
              "      try {\n",
              "        const charts = await google.colab.kernel.invokeFunction(\n",
              "            'suggestCharts', [key], {});\n",
              "      } catch (error) {\n",
              "        console.error('Error during call to suggestCharts:', error);\n",
              "      }\n",
              "      quickchartButtonEl.classList.remove('colab-df-spinner');\n",
              "      quickchartButtonEl.classList.add('colab-df-quickchart-complete');\n",
              "    }\n",
              "    (() => {\n",
              "      let quickchartButtonEl =\n",
              "        document.querySelector('#df-f5d5ee9d-6c30-48bd-a9b0-4f387ec39705 button');\n",
              "      quickchartButtonEl.style.display =\n",
              "        google.colab.kernel.accessAllowed ? 'block' : 'none';\n",
              "    })();\n",
              "  </script>\n",
              "</div>\n",
              "    </div>\n",
              "  </div>\n"
            ]
          },
          "metadata": {},
          "execution_count": 66
        }
      ]
    },
    {
      "cell_type": "code",
      "source": [
        "endorsements = ['Emily Endorsed?','Biden Endorsed?', 'Warren Endorsed? ',\n",
        "       'Sanders Endorsed?', 'Our Revolution Endorsed?',\n",
        "       'Justice Dems Endorsed?', 'PCCC Endorsed?', 'Indivisible Endorsed?',\n",
        "       'WFP Endorsed?', 'VoteVets Endorsed?']\n",
        "\n",
        "for e in endorsements:\n",
        "  num_datapoints = np.sum(endorsed_dem[e])\n",
        "  print(f'{e} has {num_datapoints} datapoints')"
      ],
      "metadata": {
        "colab": {
          "base_uri": "https://localhost:8080/"
        },
        "id": "dSVtMNxKpWLY",
        "outputId": "d940d38c-4d96-4074-acda-b3892bda9a53"
      },
      "execution_count": 67,
      "outputs": [
        {
          "output_type": "stream",
          "name": "stdout",
          "text": [
            "Emily Endorsed? has 54 datapoints\n",
            "Biden Endorsed? has 10 datapoints\n",
            "Warren Endorsed?  has 5 datapoints\n",
            "Sanders Endorsed? has 9 datapoints\n",
            "Our Revolution Endorsed? has 85 datapoints\n",
            "Justice Dems Endorsed? has 50 datapoints\n",
            "PCCC Endorsed? has 15 datapoints\n",
            "Indivisible Endorsed? has 46 datapoints\n",
            "WFP Endorsed? has 30 datapoints\n",
            "VoteVets Endorsed? has 28 datapoints\n"
          ]
        }
      ]
    },
    {
      "cell_type": "markdown",
      "source": [
        "We initially chose to base our prior on Endorsements that have been given out to at least 45 people, but ended up using a uniform prior instead, since we realized we cannot generalize a distribution better for the entire set than the uniform would."
      ],
      "metadata": {
        "id": "s4e-IQ48uVsr"
      }
    },
    {
      "cell_type": "code",
      "source": [
        "# big_endorsements = endorsed_dem[['Emily Endorsed?', 'Our Revolution Endorsed?', 'Justice Dems Endorsed?', 'Indivisible Endorsed?', 'Won Primary']]\n",
        "# only_endorsed = big_endorsements.loc[big_endorsements.iloc[:,:4].sum(axis=1) > 0, :]\n",
        "# mean_large_endorsements = np.mean(only_endorsed['Won Primary'])\n",
        "# variance_large_endorsements = np.var(only_endorsed['Won Primary'])\n",
        "# print('We want the mean of our prior to be ', mean_large_endorsements)\n",
        "# print('We want the variance of our prior to be ', variance_large_endorsements)"
      ],
      "metadata": {
        "id": "IK_dVXNspc7X"
      },
      "execution_count": 68,
      "outputs": []
    },
    {
      "cell_type": "code",
      "source": [
        "# mu = mean_large_endorsements\n",
        "# var = variance_large_endorsements\n",
        "# b = (mu * (1-mu)/var - 1) / (mu / (1-mu) + 1)\n",
        "# a = mu * b / (1- mu)\n",
        "# print(a, b)"
      ],
      "metadata": {
        "id": "lsAUAMJsrknm"
      },
      "execution_count": 69,
      "outputs": []
    },
    {
      "cell_type": "code",
      "source": [
        "winners = []\n",
        "for e in endorsements:\n",
        "  num_winners = np.sum(endorsed_dem[endorsed_dem['Won Primary'] == 1][e])\n",
        "  winners.append(num_winners)\n",
        "winners"
      ],
      "metadata": {
        "colab": {
          "base_uri": "https://localhost:8080/"
        },
        "id": "HYP1H2kDyNlV",
        "outputId": "3f98e68f-996e-4cba-ad64-634ca8af9e03"
      },
      "execution_count": 70,
      "outputs": [
        {
          "output_type": "execute_result",
          "data": {
            "text/plain": [
              "[39, 10, 5, 5, 27, 16, 10, 30, 15, 16]"
            ]
          },
          "metadata": {},
          "execution_count": 70
        }
      ]
    },
    {
      "cell_type": "code",
      "source": [
        "num_people_each_endorse = []\n",
        "for e in endorsements:\n",
        "  num_datapoints = np.sum(endorsed_dem[e])\n",
        "  num_people_each_endorse.append(num_datapoints)"
      ],
      "metadata": {
        "id": "Cdn0PwDE3Qo_"
      },
      "execution_count": 71,
      "outputs": []
    },
    {
      "cell_type": "code",
      "source": [
        "import pymc as pm\n",
        "with pm.Model() as model:\n",
        "    theta = pm.Uniform('theta', lower=0, upper=1, shape=len(endorsements))\n",
        "    X = pm.Binomial('X', n=num_people_each_endorse, p=theta, observed=winners)\n",
        "    trace = pm.sample(500, chains=4, tune=1000, target_accept=0.95, return_inferencedata=False, progressbar=True)\n"
      ],
      "metadata": {
        "colab": {
          "base_uri": "https://localhost:8080/",
          "height": 97
        },
        "id": "V9EixQ20v1Ow",
        "outputId": "e81088f5-9a64-41f8-d8af-477f5b4b7cd3"
      },
      "execution_count": 72,
      "outputs": [
        {
          "output_type": "display_data",
          "data": {
            "text/plain": [
              "<IPython.core.display.HTML object>"
            ],
            "text/html": [
              "\n",
              "<style>\n",
              "    /* Turns off some styling */\n",
              "    progress {\n",
              "        /* gets rid of default border in Firefox and Opera. */\n",
              "        border: none;\n",
              "        /* Needs to be in here for Safari polyfill so background images work as expected. */\n",
              "        background-size: auto;\n",
              "    }\n",
              "    progress:not([value]), progress:not([value])::-webkit-progress-bar {\n",
              "        background: repeating-linear-gradient(45deg, #7e7e7e, #7e7e7e 10px, #5c5c5c 10px, #5c5c5c 20px);\n",
              "    }\n",
              "    .progress-bar-interrupted, .progress-bar-interrupted::-webkit-progress-bar {\n",
              "        background: #F44336;\n",
              "    }\n",
              "</style>\n"
            ]
          },
          "metadata": {}
        },
        {
          "output_type": "display_data",
          "data": {
            "text/plain": [
              "<IPython.core.display.HTML object>"
            ],
            "text/html": [
              "\n",
              "    <div>\n",
              "      <progress value='1500' class='' max='1500' style='width:300px; height:20px; vertical-align: middle;'></progress>\n",
              "      100.00% [1500/1500 00:03&lt;00:00 Sampling chain 0, 0 divergences]\n",
              "    </div>\n",
              "    "
            ]
          },
          "metadata": {}
        },
        {
          "output_type": "display_data",
          "data": {
            "text/plain": [
              "<IPython.core.display.HTML object>"
            ],
            "text/html": [
              "\n",
              "<style>\n",
              "    /* Turns off some styling */\n",
              "    progress {\n",
              "        /* gets rid of default border in Firefox and Opera. */\n",
              "        border: none;\n",
              "        /* Needs to be in here for Safari polyfill so background images work as expected. */\n",
              "        background-size: auto;\n",
              "    }\n",
              "    progress:not([value]), progress:not([value])::-webkit-progress-bar {\n",
              "        background: repeating-linear-gradient(45deg, #7e7e7e, #7e7e7e 10px, #5c5c5c 10px, #5c5c5c 20px);\n",
              "    }\n",
              "    .progress-bar-interrupted, .progress-bar-interrupted::-webkit-progress-bar {\n",
              "        background: #F44336;\n",
              "    }\n",
              "</style>\n"
            ]
          },
          "metadata": {}
        },
        {
          "output_type": "display_data",
          "data": {
            "text/plain": [
              "<IPython.core.display.HTML object>"
            ],
            "text/html": [
              "\n",
              "    <div>\n",
              "      <progress value='1500' class='' max='1500' style='width:300px; height:20px; vertical-align: middle;'></progress>\n",
              "      100.00% [1500/1500 00:02&lt;00:00 Sampling chain 1, 0 divergences]\n",
              "    </div>\n",
              "    "
            ]
          },
          "metadata": {}
        },
        {
          "output_type": "display_data",
          "data": {
            "text/plain": [
              "<IPython.core.display.HTML object>"
            ],
            "text/html": [
              "\n",
              "<style>\n",
              "    /* Turns off some styling */\n",
              "    progress {\n",
              "        /* gets rid of default border in Firefox and Opera. */\n",
              "        border: none;\n",
              "        /* Needs to be in here for Safari polyfill so background images work as expected. */\n",
              "        background-size: auto;\n",
              "    }\n",
              "    progress:not([value]), progress:not([value])::-webkit-progress-bar {\n",
              "        background: repeating-linear-gradient(45deg, #7e7e7e, #7e7e7e 10px, #5c5c5c 10px, #5c5c5c 20px);\n",
              "    }\n",
              "    .progress-bar-interrupted, .progress-bar-interrupted::-webkit-progress-bar {\n",
              "        background: #F44336;\n",
              "    }\n",
              "</style>\n"
            ]
          },
          "metadata": {}
        },
        {
          "output_type": "display_data",
          "data": {
            "text/plain": [
              "<IPython.core.display.HTML object>"
            ],
            "text/html": [
              "\n",
              "    <div>\n",
              "      <progress value='1500' class='' max='1500' style='width:300px; height:20px; vertical-align: middle;'></progress>\n",
              "      100.00% [1500/1500 00:02&lt;00:00 Sampling chain 2, 0 divergences]\n",
              "    </div>\n",
              "    "
            ]
          },
          "metadata": {}
        },
        {
          "output_type": "display_data",
          "data": {
            "text/plain": [
              "<IPython.core.display.HTML object>"
            ],
            "text/html": [
              "\n",
              "<style>\n",
              "    /* Turns off some styling */\n",
              "    progress {\n",
              "        /* gets rid of default border in Firefox and Opera. */\n",
              "        border: none;\n",
              "        /* Needs to be in here for Safari polyfill so background images work as expected. */\n",
              "        background-size: auto;\n",
              "    }\n",
              "    progress:not([value]), progress:not([value])::-webkit-progress-bar {\n",
              "        background: repeating-linear-gradient(45deg, #7e7e7e, #7e7e7e 10px, #5c5c5c 10px, #5c5c5c 20px);\n",
              "    }\n",
              "    .progress-bar-interrupted, .progress-bar-interrupted::-webkit-progress-bar {\n",
              "        background: #F44336;\n",
              "    }\n",
              "</style>\n"
            ]
          },
          "metadata": {}
        },
        {
          "output_type": "display_data",
          "data": {
            "text/plain": [
              "<IPython.core.display.HTML object>"
            ],
            "text/html": [
              "\n",
              "    <div>\n",
              "      <progress value='1500' class='' max='1500' style='width:300px; height:20px; vertical-align: middle;'></progress>\n",
              "      100.00% [1500/1500 00:02&lt;00:00 Sampling chain 3, 0 divergences]\n",
              "    </div>\n",
              "    "
            ]
          },
          "metadata": {}
        }
      ]
    },
    {
      "cell_type": "code",
      "source": [
        "trace['theta']"
      ],
      "metadata": {
        "colab": {
          "base_uri": "https://localhost:8080/"
        },
        "id": "aGvOM6EN0kQ4",
        "outputId": "6c3079c8-e2d9-49fb-a12e-f890bdc2011d"
      },
      "execution_count": 54,
      "outputs": [
        {
          "output_type": "execute_result",
          "data": {
            "text/plain": [
              "array([[0.70996945, 0.98011589, 0.71894317, ..., 0.63319678, 0.44007227,\n",
              "        0.59015657],\n",
              "       [0.74408384, 0.99737119, 0.73997989, ..., 0.61671639, 0.43176525,\n",
              "        0.39690834],\n",
              "       [0.71892422, 0.98532258, 0.91948523, ..., 0.76351386, 0.50394832,\n",
              "        0.62705708],\n",
              "       ...,\n",
              "       [0.66915987, 0.97807661, 0.9503921 , ..., 0.65565587, 0.48303525,\n",
              "        0.64802995],\n",
              "       [0.70007553, 0.75204134, 0.99465443, ..., 0.47114918, 0.43499211,\n",
              "        0.57010318],\n",
              "       [0.60513747, 0.97878258, 0.99578385, ..., 0.62952114, 0.40831697,\n",
              "        0.55076277]])"
            ]
          },
          "metadata": {},
          "execution_count": 54
        }
      ]
    },
    {
      "cell_type": "code",
      "source": [
        "import matplotlib.pyplot as plt\n",
        "for i in range(len(endorsements)):\n",
        "  plt.hist(trace['theta'][:, i], label=(f'Posterior Distribution of primary win chance when {endorsements[i][:len(endorsements[i])-1]}'))\n",
        "  plt.title(f'Posterior Distribution for chance of winning primary when {endorsements[i][:len(endorsements[i])-1]}')\n",
        "  plt.axvline(x=np.mean(endorsed_dem[endorsed_dem[endorsements[i]] == 1]['Won Primary']), color='r', label='empirical mean for endorsement')\n",
        "  plt.axvline(x=np.mean(endorsed_dem['Won Primary']), color='g', label='empirical mean overall')\n",
        "  plt.xlim([0, 1])\n",
        "  plt.legend(bbox_to_anchor=(1, 1))\n",
        "  plt.show()\n",
        "  print('empirical mean of this endorsement: ', np.mean(endorsed_dem[endorsed_dem[endorsements[i]] == 1]['Won Primary']))\n",
        "  print('empirical mean of all candidates: ', np.mean(endorsed_dem['Won Primary']))\n",
        "  print('posterior mean:', np.mean(trace['theta'][:, i]))\n",
        "  print('posterior variance: ', np.var(trace['theta'][:, i]))"
      ],
      "metadata": {
        "colab": {
          "base_uri": "https://localhost:8080/",
          "height": 1000
        },
        "id": "M52VZSJs3_Gx",
        "outputId": "12215c18-5e7d-4c06-d33c-dd59f591d20c"
      },
      "execution_count": 73,
      "outputs": [
        {
          "output_type": "display_data",
          "data": {
            "text/plain": [
              "<Figure size 640x480 with 1 Axes>"
            ],
            "image/png": "[encoded data removed]"
          },
          "metadata": {}
        },
        {
          "output_type": "stream",
          "name": "stdout",
          "text": [
            "empirical mean of this endorsement:  0.7222222222222222\n",
            "empirical mean of all candidates:  0.29469790382244143\n",
            "posterior mean: 0.7134939001057644\n",
            "posterior variance:  0.00353375492842982\n"
          ]
        },
        {
          "output_type": "display_data",
          "data": {
            "text/plain": [
              "<Figure size 640x480 with 1 Axes>"
            ],
            "image/png": "[encoded data removed]"
          },
          "metadata": {}
        },
        {
          "output_type": "stream",
          "name": "stdout",
          "text": [
            "empirical mean of this endorsement:  1.0\n",
            "empirical mean of all candidates:  0.29469790382244143\n",
            "posterior mean: 0.9172779285943571\n",
            "posterior variance:  0.006060618717038328\n"
          ]
        },
        {
          "output_type": "display_data",
          "data": {
            "text/plain": [
              "<Figure size 640x480 with 1 Axes>"
            ],
            "image/png": "[encoded data removed]"
          },
          "metadata": {}
        },
        {
          "output_type": "stream",
          "name": "stdout",
          "text": [
            "empirical mean of this endorsement:  1.0\n",
            "empirical mean of all candidates:  0.29469790382244143\n",
            "posterior mean: 0.8557278842130657\n",
            "posterior variance:  0.01568058714006254\n"
          ]
        },
        {
          "output_type": "display_data",
          "data": {
            "text/plain": [
              "<Figure size 640x480 with 1 Axes>"
            ],
            "image/png": "[encoded data removed]"
          },
          "metadata": {}
        },
        {
          "output_type": "stream",
          "name": "stdout",
          "text": [
            "empirical mean of this endorsement:  0.5555555555555556\n",
            "empirical mean of all candidates:  0.29469790382244143\n",
            "posterior mean: 0.5423357408533898\n",
            "posterior variance:  0.020055143400932892\n"
          ]
        },
        {
          "output_type": "display_data",
          "data": {
            "text/plain": [
              "<Figure size 640x480 with 1 Axes>"
            ],
            "image/png": "[encoded data removed]"
          },
          "metadata": {}
        },
        {
          "output_type": "stream",
          "name": "stdout",
          "text": [
            "empirical mean of this endorsement:  0.3176470588235294\n",
            "empirical mean of all candidates:  0.29469790382244143\n",
            "posterior mean: 0.32172326229698994\n",
            "posterior variance:  0.0022141752749107475\n"
          ]
        },
        {
          "output_type": "display_data",
          "data": {
            "text/plain": [
              "<Figure size 640x480 with 1 Axes>"
            ],
            "image/png": "[encoded data removed]"
          },
          "metadata": {}
        },
        {
          "output_type": "stream",
          "name": "stdout",
          "text": [
            "empirical mean of this endorsement:  0.32\n",
            "empirical mean of all candidates:  0.29469790382244143\n",
            "posterior mean: 0.32825210546925365\n",
            "posterior variance:  0.004011629216597586\n"
          ]
        },
        {
          "output_type": "display_data",
          "data": {
            "text/plain": [
              "<Figure size 640x480 with 1 Axes>"
            ],
            "image/png": "[encoded data removed]"
          },
          "metadata": {}
        },
        {
          "output_type": "stream",
          "name": "stdout",
          "text": [
            "empirical mean of this endorsement:  0.6666666666666666\n",
            "empirical mean of all candidates:  0.29469790382244143\n",
            "posterior mean: 0.6451690728331078\n",
            "posterior variance:  0.013032975403193103\n"
          ]
        },
        {
          "output_type": "display_data",
          "data": {
            "text/plain": [
              "<Figure size 640x480 with 1 Axes>"
            ],
            "image/png": "[encoded data removed]"
          },
          "metadata": {}
        },
        {
          "output_type": "stream",
          "name": "stdout",
          "text": [
            "empirical mean of this endorsement:  0.6521739130434783\n",
            "empirical mean of all candidates:  0.29469790382244143\n",
            "posterior mean: 0.6456764495515236\n",
            "posterior variance:  0.004497314029666626\n"
          ]
        },
        {
          "output_type": "display_data",
          "data": {
            "text/plain": [
              "<Figure size 640x480 with 1 Axes>"
            ],
            "image/png": "[encoded data removed]"
          },
          "metadata": {}
        },
        {
          "output_type": "stream",
          "name": "stdout",
          "text": [
            "empirical mean of this endorsement:  0.5\n",
            "empirical mean of all candidates:  0.29469790382244143\n",
            "posterior mean: 0.5014060572747243\n",
            "posterior variance:  0.007976607183481898\n"
          ]
        },
        {
          "output_type": "display_data",
          "data": {
            "text/plain": [
              "<Figure size 640x480 with 1 Axes>"
            ],
            "image/png": "[encoded data removed]"
          },
          "metadata": {}
        },
        {
          "output_type": "stream",
          "name": "stdout",
          "text": [
            "empirical mean of this endorsement:  0.5714285714285714\n",
            "empirical mean of all candidates:  0.29469790382244143\n",
            "posterior mean: 0.5687408634352271\n",
            "posterior variance:  0.007384009000258543\n"
          ]
        }
      ]
    },
    {
      "cell_type": "code",
      "source": [
        "endorsers = [\"Emily's List\", 'Joe Biden', 'Elizabeth Warren', 'Bernie Sanders', 'Our Revolution', 'Justice Dems', 'PCCC', 'Indivisible', 'WFP', 'VoteVets']\n",
        "\n",
        "for i in range(len(endorsements)):\n",
        "    mu = np.round(np.mean(trace['theta'][:, i]), 3)\n",
        "    sd = np.round(np.std(trace['theta'][:, i]), 3)\n",
        "    print(f'For candidates endorsed by {endorsers[i]}, the posterior mean is {mu} with a standard deviation of {sd}. This implies that most values are between {np.round(mu - sd, 3)} and {np.round(mu + sd, 3)}, but not outside of the bounds of (0,1)')"
      ],
      "metadata": {
        "colab": {
          "base_uri": "https://localhost:8080/"
        },
        "id": "KFRU3dm76E6L",
        "outputId": "d7671db8-503f-4648-f989-1d3b3d73f701"
      },
      "execution_count": 56,
      "outputs": [
        {
          "output_type": "stream",
          "name": "stdout",
          "text": [
            "For candidates endorsed by Emily's List, the posterior mean is 0.711 with a standard deviation of 0.059. This implies that most values are between 0.652 and 0.77, but not outside of the bounds of (0,1)\n",
            "For candidates endorsed by Joe Biden, the posterior mean is 0.917 with a standard deviation of 0.076. This implies that most values are between 0.841 and 0.993, but not outside of the bounds of (0,1)\n",
            "For candidates endorsed by Elizabeth Warren, the posterior mean is 0.854 with a standard deviation of 0.124. This implies that most values are between 0.73 and 0.978, but not outside of the bounds of (0,1)\n",
            "For candidates endorsed by Bernie Sanders, the posterior mean is 0.546 with a standard deviation of 0.142. This implies that most values are between 0.404 and 0.688, but not outside of the bounds of (0,1)\n",
            "For candidates endorsed by Our Revolution, the posterior mean is 0.324 with a standard deviation of 0.049. This implies that most values are between 0.275 and 0.373, but not outside of the bounds of (0,1)\n",
            "For candidates endorsed by Justice Dems, the posterior mean is 0.329 with a standard deviation of 0.063. This implies that most values are between 0.266 and 0.392, but not outside of the bounds of (0,1)\n",
            "For candidates endorsed by PCCC, the posterior mean is 0.648 with a standard deviation of 0.108. This implies that most values are between 0.54 and 0.756, but not outside of the bounds of (0,1)\n",
            "For candidates endorsed by Indivisible, the posterior mean is 0.644 with a standard deviation of 0.069. This implies that most values are between 0.575 and 0.713, but not outside of the bounds of (0,1)\n",
            "For candidates endorsed by WFP, the posterior mean is 0.498 with a standard deviation of 0.085. This implies that most values are between 0.413 and 0.583, but not outside of the bounds of (0,1)\n",
            "For candidates endorsed by VoteVets, the posterior mean is 0.568 with a standard deviation of 0.09. This implies that most values are between 0.478 and 0.658, but not outside of the bounds of (0,1)\n"
          ]
        }
      ]
    }
  ]
}